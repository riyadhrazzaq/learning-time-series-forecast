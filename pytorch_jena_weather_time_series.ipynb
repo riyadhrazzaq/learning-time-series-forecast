{
  "nbformat": 4,
  "nbformat_minor": 0,
  "metadata": {
    "kernelspec": {
      "language": "python",
      "display_name": "Python 3",
      "name": "python3"
    },
    "language_info": {
      "name": "python",
      "version": "3.7.10",
      "mimetype": "text/x-python",
      "codemirror_mode": {
        "name": "ipython",
        "version": 3
      },
      "pygments_lexer": "ipython3",
      "nbconvert_exporter": "python",
      "file_extension": ".py"
    },
    "colab": {
      "name": "pytorch-jena-weather-time-series.ipynb",
      "provenance": []
    }
  },
  "cells": [
    {
      "cell_type": "markdown",
      "metadata": {
        "id": "GdmLxB0L9ToO"
      },
      "source": [
        "### commit message\n",
        "`lstm` model works."
      ]
    },
    {
      "cell_type": "markdown",
      "metadata": {
        "id": "toahVsen9ToR"
      },
      "source": [
        "# Time series Forecasting with PyTorch\n",
        "attempt at implementing https://www.tensorflow.org/tutorials/structured_data/time_series in pytorch."
      ]
    },
    {
      "cell_type": "code",
      "metadata": {
        "_uuid": "8f2839f25d086af736a60e9eeb907d3b93b6e0e5",
        "_cell_guid": "b1076dfc-b9ad-4769-8c92-a6c4dae69d19",
        "execution": {
          "iopub.status.busy": "2021-09-09T09:10:46.615129Z",
          "iopub.execute_input": "2021-09-09T09:10:46.615632Z",
          "iopub.status.idle": "2021-09-09T09:10:48.652334Z",
          "shell.execute_reply.started": "2021-09-09T09:10:46.615498Z",
          "shell.execute_reply": "2021-09-09T09:10:48.651326Z"
        },
        "trusted": true,
        "colab": {
          "base_uri": "https://localhost:8080/",
          "height": 0
        },
        "id": "SSGmFXpZ9ToR",
        "outputId": "2db7307e-0ad6-4a3a-fca0-bd4dabe916e1"
      },
      "source": [
        "# import\n",
        "import os\n",
        "import datetime\n",
        "\n",
        "import IPython\n",
        "import IPython.display\n",
        "import matplotlib as mpl\n",
        "import matplotlib.pyplot as plt\n",
        "\n",
        "import numpy as np\n",
        "from numpy.lib.stride_tricks import as_strided\n",
        "\n",
        "import pandas as pd\n",
        "import seaborn as sns\n",
        "\n",
        "import torch\n",
        "import torch.nn as nn\n",
        "from torch.utils.data import Dataset, DataLoader\n",
        "\n",
        "from tqdm import tqdm\n",
        "\n",
        "# config\n",
        "mpl.rcParams['figure.figsize'] = (8, 6)\n",
        "mpl.rcParams['axes.grid'] = False\n",
        "\n",
        "## torch device\n",
        "if torch.cuda.is_available():\n",
        "    DEVICE = \"cuda\"\n",
        "    print(\"Using Cuda\")\n",
        "    print(\"Name of the Cuda Device: \", torch.cuda.get_device_name())\n",
        "    print(\"GPU Computational Capablity: \", torch.cuda.get_device_capability())\n",
        "else:\n",
        "    DEVICE = \"cpu\"\n",
        "    print(\"Using CPU\")"
      ],
      "execution_count": 1,
      "outputs": [
        {
          "output_type": "stream",
          "name": "stdout",
          "text": [
            "Using CPU\n"
          ]
        }
      ]
    },
    {
      "cell_type": "markdown",
      "metadata": {
        "id": "vEQUOa5L9ToT"
      },
      "source": [
        "# Utility"
      ]
    },
    {
      "cell_type": "markdown",
      "metadata": {
        "id": "_M4C-J4Y9ToT"
      },
      "source": [
        "## download dataset"
      ]
    },
    {
      "cell_type": "code",
      "metadata": {
        "execution": {
          "iopub.status.busy": "2021-09-09T09:10:48.654223Z",
          "iopub.execute_input": "2021-09-09T09:10:48.654663Z",
          "iopub.status.idle": "2021-09-09T09:10:49.409421Z",
          "shell.execute_reply.started": "2021-09-09T09:10:48.654615Z",
          "shell.execute_reply": "2021-09-09T09:10:49.408597Z"
        },
        "trusted": true,
        "id": "hIS8nZ0d9ToT"
      },
      "source": [
        "from urllib.request import urlopen\n",
        "from io import BytesIO\n",
        "import zipfile\n",
        "\n",
        "\n",
        "def download_and_extract(url, extract_to='.'):\n",
        "    http_response = urlopen(url)\n",
        "    file = zipfile.ZipFile(BytesIO(http_response.read()))\n",
        "    file.extractall(path=extract_to)\n",
        "    \n",
        "download_and_extract(\"https://storage.googleapis.com/tensorflow/tf-keras-datasets/jena_climate_2009_2016.csv.zip\")\n",
        "csv_path = \"./jena_climate_2009_2016.csv\""
      ],
      "execution_count": 2,
      "outputs": []
    },
    {
      "cell_type": "markdown",
      "metadata": {
        "id": "oI127J-x9ToU"
      },
      "source": [
        "# The Weather Dataset\n",
        "This dataset contains data in 14 features in 10 min interval from `January 1, 2009` to `December 31, 2017`. In this notebook, I will use data from 1hr interval."
      ]
    },
    {
      "cell_type": "code",
      "metadata": {
        "execution": {
          "iopub.status.busy": "2021-09-09T09:10:49.411581Z",
          "iopub.execute_input": "2021-09-09T09:10:49.412210Z",
          "iopub.status.idle": "2021-09-09T09:10:50.464534Z",
          "shell.execute_reply.started": "2021-09-09T09:10:49.412165Z",
          "shell.execute_reply": "2021-09-09T09:10:50.463368Z"
        },
        "trusted": true,
        "colab": {
          "base_uri": "https://localhost:8080/",
          "height": 644
        },
        "id": "cJSAtyLR9ToU",
        "outputId": "93d816f9-affe-4681-de89-4a8212d3e489"
      },
      "source": [
        "df = pd.read_csv(csv_path)\n",
        "display(df.head())\n",
        "\n",
        "# slice to get data starting from 5th row to every 6th row\n",
        "df = df[5::6]\n",
        "df.head()"
      ],
      "execution_count": 3,
      "outputs": [
        {
          "output_type": "display_data",
          "data": {
            "text/html": [
              "<div>\n",
              "<style scoped>\n",
              "    .dataframe tbody tr th:only-of-type {\n",
              "        vertical-align: middle;\n",
              "    }\n",
              "\n",
              "    .dataframe tbody tr th {\n",
              "        vertical-align: top;\n",
              "    }\n",
              "\n",
              "    .dataframe thead th {\n",
              "        text-align: right;\n",
              "    }\n",
              "</style>\n",
              "<table border=\"1\" class=\"dataframe\">\n",
              "  <thead>\n",
              "    <tr style=\"text-align: right;\">\n",
              "      <th></th>\n",
              "      <th>Date Time</th>\n",
              "      <th>p (mbar)</th>\n",
              "      <th>T (degC)</th>\n",
              "      <th>Tpot (K)</th>\n",
              "      <th>Tdew (degC)</th>\n",
              "      <th>rh (%)</th>\n",
              "      <th>VPmax (mbar)</th>\n",
              "      <th>VPact (mbar)</th>\n",
              "      <th>VPdef (mbar)</th>\n",
              "      <th>sh (g/kg)</th>\n",
              "      <th>H2OC (mmol/mol)</th>\n",
              "      <th>rho (g/m**3)</th>\n",
              "      <th>wv (m/s)</th>\n",
              "      <th>max. wv (m/s)</th>\n",
              "      <th>wd (deg)</th>\n",
              "    </tr>\n",
              "  </thead>\n",
              "  <tbody>\n",
              "    <tr>\n",
              "      <th>0</th>\n",
              "      <td>01.01.2009 00:10:00</td>\n",
              "      <td>996.52</td>\n",
              "      <td>-8.02</td>\n",
              "      <td>265.40</td>\n",
              "      <td>-8.90</td>\n",
              "      <td>93.3</td>\n",
              "      <td>3.33</td>\n",
              "      <td>3.11</td>\n",
              "      <td>0.22</td>\n",
              "      <td>1.94</td>\n",
              "      <td>3.12</td>\n",
              "      <td>1307.75</td>\n",
              "      <td>1.03</td>\n",
              "      <td>1.75</td>\n",
              "      <td>152.3</td>\n",
              "    </tr>\n",
              "    <tr>\n",
              "      <th>1</th>\n",
              "      <td>01.01.2009 00:20:00</td>\n",
              "      <td>996.57</td>\n",
              "      <td>-8.41</td>\n",
              "      <td>265.01</td>\n",
              "      <td>-9.28</td>\n",
              "      <td>93.4</td>\n",
              "      <td>3.23</td>\n",
              "      <td>3.02</td>\n",
              "      <td>0.21</td>\n",
              "      <td>1.89</td>\n",
              "      <td>3.03</td>\n",
              "      <td>1309.80</td>\n",
              "      <td>0.72</td>\n",
              "      <td>1.50</td>\n",
              "      <td>136.1</td>\n",
              "    </tr>\n",
              "    <tr>\n",
              "      <th>2</th>\n",
              "      <td>01.01.2009 00:30:00</td>\n",
              "      <td>996.53</td>\n",
              "      <td>-8.51</td>\n",
              "      <td>264.91</td>\n",
              "      <td>-9.31</td>\n",
              "      <td>93.9</td>\n",
              "      <td>3.21</td>\n",
              "      <td>3.01</td>\n",
              "      <td>0.20</td>\n",
              "      <td>1.88</td>\n",
              "      <td>3.02</td>\n",
              "      <td>1310.24</td>\n",
              "      <td>0.19</td>\n",
              "      <td>0.63</td>\n",
              "      <td>171.6</td>\n",
              "    </tr>\n",
              "    <tr>\n",
              "      <th>3</th>\n",
              "      <td>01.01.2009 00:40:00</td>\n",
              "      <td>996.51</td>\n",
              "      <td>-8.31</td>\n",
              "      <td>265.12</td>\n",
              "      <td>-9.07</td>\n",
              "      <td>94.2</td>\n",
              "      <td>3.26</td>\n",
              "      <td>3.07</td>\n",
              "      <td>0.19</td>\n",
              "      <td>1.92</td>\n",
              "      <td>3.08</td>\n",
              "      <td>1309.19</td>\n",
              "      <td>0.34</td>\n",
              "      <td>0.50</td>\n",
              "      <td>198.0</td>\n",
              "    </tr>\n",
              "    <tr>\n",
              "      <th>4</th>\n",
              "      <td>01.01.2009 00:50:00</td>\n",
              "      <td>996.51</td>\n",
              "      <td>-8.27</td>\n",
              "      <td>265.15</td>\n",
              "      <td>-9.04</td>\n",
              "      <td>94.1</td>\n",
              "      <td>3.27</td>\n",
              "      <td>3.08</td>\n",
              "      <td>0.19</td>\n",
              "      <td>1.92</td>\n",
              "      <td>3.09</td>\n",
              "      <td>1309.00</td>\n",
              "      <td>0.32</td>\n",
              "      <td>0.63</td>\n",
              "      <td>214.3</td>\n",
              "    </tr>\n",
              "  </tbody>\n",
              "</table>\n",
              "</div>"
            ],
            "text/plain": [
              "             Date Time  p (mbar)  T (degC)  ...  wv (m/s)  max. wv (m/s)  wd (deg)\n",
              "0  01.01.2009 00:10:00    996.52     -8.02  ...      1.03           1.75     152.3\n",
              "1  01.01.2009 00:20:00    996.57     -8.41  ...      0.72           1.50     136.1\n",
              "2  01.01.2009 00:30:00    996.53     -8.51  ...      0.19           0.63     171.6\n",
              "3  01.01.2009 00:40:00    996.51     -8.31  ...      0.34           0.50     198.0\n",
              "4  01.01.2009 00:50:00    996.51     -8.27  ...      0.32           0.63     214.3\n",
              "\n",
              "[5 rows x 15 columns]"
            ]
          },
          "metadata": {}
        },
        {
          "output_type": "execute_result",
          "data": {
            "text/html": [
              "<div>\n",
              "<style scoped>\n",
              "    .dataframe tbody tr th:only-of-type {\n",
              "        vertical-align: middle;\n",
              "    }\n",
              "\n",
              "    .dataframe tbody tr th {\n",
              "        vertical-align: top;\n",
              "    }\n",
              "\n",
              "    .dataframe thead th {\n",
              "        text-align: right;\n",
              "    }\n",
              "</style>\n",
              "<table border=\"1\" class=\"dataframe\">\n",
              "  <thead>\n",
              "    <tr style=\"text-align: right;\">\n",
              "      <th></th>\n",
              "      <th>Date Time</th>\n",
              "      <th>p (mbar)</th>\n",
              "      <th>T (degC)</th>\n",
              "      <th>Tpot (K)</th>\n",
              "      <th>Tdew (degC)</th>\n",
              "      <th>rh (%)</th>\n",
              "      <th>VPmax (mbar)</th>\n",
              "      <th>VPact (mbar)</th>\n",
              "      <th>VPdef (mbar)</th>\n",
              "      <th>sh (g/kg)</th>\n",
              "      <th>H2OC (mmol/mol)</th>\n",
              "      <th>rho (g/m**3)</th>\n",
              "      <th>wv (m/s)</th>\n",
              "      <th>max. wv (m/s)</th>\n",
              "      <th>wd (deg)</th>\n",
              "    </tr>\n",
              "  </thead>\n",
              "  <tbody>\n",
              "    <tr>\n",
              "      <th>5</th>\n",
              "      <td>01.01.2009 01:00:00</td>\n",
              "      <td>996.50</td>\n",
              "      <td>-8.05</td>\n",
              "      <td>265.38</td>\n",
              "      <td>-8.78</td>\n",
              "      <td>94.4</td>\n",
              "      <td>3.33</td>\n",
              "      <td>3.14</td>\n",
              "      <td>0.19</td>\n",
              "      <td>1.96</td>\n",
              "      <td>3.15</td>\n",
              "      <td>1307.86</td>\n",
              "      <td>0.21</td>\n",
              "      <td>0.63</td>\n",
              "      <td>192.7</td>\n",
              "    </tr>\n",
              "    <tr>\n",
              "      <th>11</th>\n",
              "      <td>01.01.2009 02:00:00</td>\n",
              "      <td>996.62</td>\n",
              "      <td>-8.88</td>\n",
              "      <td>264.54</td>\n",
              "      <td>-9.77</td>\n",
              "      <td>93.2</td>\n",
              "      <td>3.12</td>\n",
              "      <td>2.90</td>\n",
              "      <td>0.21</td>\n",
              "      <td>1.81</td>\n",
              "      <td>2.91</td>\n",
              "      <td>1312.25</td>\n",
              "      <td>0.25</td>\n",
              "      <td>0.63</td>\n",
              "      <td>190.3</td>\n",
              "    </tr>\n",
              "    <tr>\n",
              "      <th>17</th>\n",
              "      <td>01.01.2009 03:00:00</td>\n",
              "      <td>996.84</td>\n",
              "      <td>-8.81</td>\n",
              "      <td>264.59</td>\n",
              "      <td>-9.66</td>\n",
              "      <td>93.5</td>\n",
              "      <td>3.13</td>\n",
              "      <td>2.93</td>\n",
              "      <td>0.20</td>\n",
              "      <td>1.83</td>\n",
              "      <td>2.94</td>\n",
              "      <td>1312.18</td>\n",
              "      <td>0.18</td>\n",
              "      <td>0.63</td>\n",
              "      <td>167.2</td>\n",
              "    </tr>\n",
              "    <tr>\n",
              "      <th>23</th>\n",
              "      <td>01.01.2009 04:00:00</td>\n",
              "      <td>996.99</td>\n",
              "      <td>-9.05</td>\n",
              "      <td>264.34</td>\n",
              "      <td>-10.02</td>\n",
              "      <td>92.6</td>\n",
              "      <td>3.07</td>\n",
              "      <td>2.85</td>\n",
              "      <td>0.23</td>\n",
              "      <td>1.78</td>\n",
              "      <td>2.85</td>\n",
              "      <td>1313.61</td>\n",
              "      <td>0.10</td>\n",
              "      <td>0.38</td>\n",
              "      <td>240.0</td>\n",
              "    </tr>\n",
              "    <tr>\n",
              "      <th>29</th>\n",
              "      <td>01.01.2009 05:00:00</td>\n",
              "      <td>997.46</td>\n",
              "      <td>-9.63</td>\n",
              "      <td>263.72</td>\n",
              "      <td>-10.65</td>\n",
              "      <td>92.2</td>\n",
              "      <td>2.94</td>\n",
              "      <td>2.71</td>\n",
              "      <td>0.23</td>\n",
              "      <td>1.69</td>\n",
              "      <td>2.71</td>\n",
              "      <td>1317.19</td>\n",
              "      <td>0.40</td>\n",
              "      <td>0.88</td>\n",
              "      <td>157.0</td>\n",
              "    </tr>\n",
              "  </tbody>\n",
              "</table>\n",
              "</div>"
            ],
            "text/plain": [
              "              Date Time  p (mbar)  T (degC)  ...  wv (m/s)  max. wv (m/s)  wd (deg)\n",
              "5   01.01.2009 01:00:00    996.50     -8.05  ...      0.21           0.63     192.7\n",
              "11  01.01.2009 02:00:00    996.62     -8.88  ...      0.25           0.63     190.3\n",
              "17  01.01.2009 03:00:00    996.84     -8.81  ...      0.18           0.63     167.2\n",
              "23  01.01.2009 04:00:00    996.99     -9.05  ...      0.10           0.38     240.0\n",
              "29  01.01.2009 05:00:00    997.46     -9.63  ...      0.40           0.88     157.0\n",
              "\n",
              "[5 rows x 15 columns]"
            ]
          },
          "metadata": {},
          "execution_count": 3
        }
      ]
    },
    {
      "cell_type": "code",
      "metadata": {
        "execution": {
          "iopub.status.busy": "2021-09-09T09:10:50.466277Z",
          "iopub.execute_input": "2021-09-09T09:10:50.466567Z",
          "iopub.status.idle": "2021-09-09T09:10:50.471939Z",
          "shell.execute_reply.started": "2021-09-09T09:10:50.466537Z",
          "shell.execute_reply": "2021-09-09T09:10:50.471111Z"
        },
        "trusted": true,
        "id": "Rc53aVsD9ToV"
      },
      "source": [
        "P = \"p (mbar)\"\n",
        "T = \"T (degC)\"\n",
        "TPOT = 'Tpot (K)'\n",
        "TDEW = 'Tdew (degC)'\n",
        "RH = 'rh (%)'\n",
        "VPMAX = 'VPmax (mbar)'\n",
        "VPACT = 'VPact (mbar)'\n",
        "VPDEF = 'VPdef (mbar)'\n",
        "SH = 'sh (g/kg)'\n",
        "H20C = 'H2OC (mmol/mol)'\n",
        "RHO = 'rho (g/m**3)'\n",
        "WV = 'wv (m/s)'\n",
        "MAXWV = 'max. wv (m/s)'\n",
        "WD = 'wd (deg)'"
      ],
      "execution_count": 4,
      "outputs": []
    },
    {
      "cell_type": "code",
      "metadata": {
        "execution": {
          "iopub.status.busy": "2021-09-09T09:10:50.473125Z",
          "iopub.execute_input": "2021-09-09T09:10:50.473528Z",
          "iopub.status.idle": "2021-09-09T09:10:50.876899Z",
          "shell.execute_reply.started": "2021-09-09T09:10:50.473497Z",
          "shell.execute_reply": "2021-09-09T09:10:50.875816Z"
        },
        "trusted": true,
        "colab": {
          "base_uri": "https://localhost:8080/",
          "height": 256
        },
        "id": "2pofvwvc9ToV",
        "outputId": "94f65e02-72fa-44fa-a99b-c03117559e16"
      },
      "source": [
        "date_time = pd.to_datetime(\n",
        "    df.pop('Date Time'), format='%d.%m.%Y %H:%M:%S'\n",
        ")\n",
        "df.head()"
      ],
      "execution_count": 5,
      "outputs": [
        {
          "output_type": "execute_result",
          "data": {
            "text/html": [
              "<div>\n",
              "<style scoped>\n",
              "    .dataframe tbody tr th:only-of-type {\n",
              "        vertical-align: middle;\n",
              "    }\n",
              "\n",
              "    .dataframe tbody tr th {\n",
              "        vertical-align: top;\n",
              "    }\n",
              "\n",
              "    .dataframe thead th {\n",
              "        text-align: right;\n",
              "    }\n",
              "</style>\n",
              "<table border=\"1\" class=\"dataframe\">\n",
              "  <thead>\n",
              "    <tr style=\"text-align: right;\">\n",
              "      <th></th>\n",
              "      <th>p (mbar)</th>\n",
              "      <th>T (degC)</th>\n",
              "      <th>Tpot (K)</th>\n",
              "      <th>Tdew (degC)</th>\n",
              "      <th>rh (%)</th>\n",
              "      <th>VPmax (mbar)</th>\n",
              "      <th>VPact (mbar)</th>\n",
              "      <th>VPdef (mbar)</th>\n",
              "      <th>sh (g/kg)</th>\n",
              "      <th>H2OC (mmol/mol)</th>\n",
              "      <th>rho (g/m**3)</th>\n",
              "      <th>wv (m/s)</th>\n",
              "      <th>max. wv (m/s)</th>\n",
              "      <th>wd (deg)</th>\n",
              "    </tr>\n",
              "  </thead>\n",
              "  <tbody>\n",
              "    <tr>\n",
              "      <th>5</th>\n",
              "      <td>996.50</td>\n",
              "      <td>-8.05</td>\n",
              "      <td>265.38</td>\n",
              "      <td>-8.78</td>\n",
              "      <td>94.4</td>\n",
              "      <td>3.33</td>\n",
              "      <td>3.14</td>\n",
              "      <td>0.19</td>\n",
              "      <td>1.96</td>\n",
              "      <td>3.15</td>\n",
              "      <td>1307.86</td>\n",
              "      <td>0.21</td>\n",
              "      <td>0.63</td>\n",
              "      <td>192.7</td>\n",
              "    </tr>\n",
              "    <tr>\n",
              "      <th>11</th>\n",
              "      <td>996.62</td>\n",
              "      <td>-8.88</td>\n",
              "      <td>264.54</td>\n",
              "      <td>-9.77</td>\n",
              "      <td>93.2</td>\n",
              "      <td>3.12</td>\n",
              "      <td>2.90</td>\n",
              "      <td>0.21</td>\n",
              "      <td>1.81</td>\n",
              "      <td>2.91</td>\n",
              "      <td>1312.25</td>\n",
              "      <td>0.25</td>\n",
              "      <td>0.63</td>\n",
              "      <td>190.3</td>\n",
              "    </tr>\n",
              "    <tr>\n",
              "      <th>17</th>\n",
              "      <td>996.84</td>\n",
              "      <td>-8.81</td>\n",
              "      <td>264.59</td>\n",
              "      <td>-9.66</td>\n",
              "      <td>93.5</td>\n",
              "      <td>3.13</td>\n",
              "      <td>2.93</td>\n",
              "      <td>0.20</td>\n",
              "      <td>1.83</td>\n",
              "      <td>2.94</td>\n",
              "      <td>1312.18</td>\n",
              "      <td>0.18</td>\n",
              "      <td>0.63</td>\n",
              "      <td>167.2</td>\n",
              "    </tr>\n",
              "    <tr>\n",
              "      <th>23</th>\n",
              "      <td>996.99</td>\n",
              "      <td>-9.05</td>\n",
              "      <td>264.34</td>\n",
              "      <td>-10.02</td>\n",
              "      <td>92.6</td>\n",
              "      <td>3.07</td>\n",
              "      <td>2.85</td>\n",
              "      <td>0.23</td>\n",
              "      <td>1.78</td>\n",
              "      <td>2.85</td>\n",
              "      <td>1313.61</td>\n",
              "      <td>0.10</td>\n",
              "      <td>0.38</td>\n",
              "      <td>240.0</td>\n",
              "    </tr>\n",
              "    <tr>\n",
              "      <th>29</th>\n",
              "      <td>997.46</td>\n",
              "      <td>-9.63</td>\n",
              "      <td>263.72</td>\n",
              "      <td>-10.65</td>\n",
              "      <td>92.2</td>\n",
              "      <td>2.94</td>\n",
              "      <td>2.71</td>\n",
              "      <td>0.23</td>\n",
              "      <td>1.69</td>\n",
              "      <td>2.71</td>\n",
              "      <td>1317.19</td>\n",
              "      <td>0.40</td>\n",
              "      <td>0.88</td>\n",
              "      <td>157.0</td>\n",
              "    </tr>\n",
              "  </tbody>\n",
              "</table>\n",
              "</div>"
            ],
            "text/plain": [
              "    p (mbar)  T (degC)  Tpot (K)  ...  wv (m/s)  max. wv (m/s)  wd (deg)\n",
              "5     996.50     -8.05    265.38  ...      0.21           0.63     192.7\n",
              "11    996.62     -8.88    264.54  ...      0.25           0.63     190.3\n",
              "17    996.84     -8.81    264.59  ...      0.18           0.63     167.2\n",
              "23    996.99     -9.05    264.34  ...      0.10           0.38     240.0\n",
              "29    997.46     -9.63    263.72  ...      0.40           0.88     157.0\n",
              "\n",
              "[5 rows x 14 columns]"
            ]
          },
          "metadata": {},
          "execution_count": 5
        }
      ]
    },
    {
      "cell_type": "code",
      "metadata": {
        "execution": {
          "iopub.status.busy": "2021-09-09T09:10:50.878007Z",
          "iopub.execute_input": "2021-09-09T09:10:50.878304Z",
          "iopub.status.idle": "2021-09-09T09:10:53.158384Z",
          "shell.execute_reply.started": "2021-09-09T09:10:50.878277Z",
          "shell.execute_reply": "2021-09-09T09:10:53.157629Z"
        },
        "trusted": true,
        "colab": {
          "base_uri": "https://localhost:8080/",
          "height": 540
        },
        "id": "AGou4QAb9ToV",
        "outputId": "737d830d-3e97-4613-c6a2-002560b1b9d0"
      },
      "source": [
        "plot_cols = [T, P, RHO]\n",
        "plot_features = df[plot_cols]\n",
        "plot_features.index = date_time\n",
        "_ = plot_features.plot(subplots=True)\n",
        "\n",
        "plot_features = df[plot_cols][:480]\n",
        "plot_features.index = date_time[:480]\n",
        "_ = plot_features.plot(subplots=True)"
      ],
      "execution_count": 6,
      "outputs": [
        {
          "output_type": "display_data",
          "data": {
            "image/png": "[encoded data removed]",
            "text/plain": [
              "<Figure size 432x288 with 3 Axes>"
            ]
          },
          "metadata": {
            "needs_background": "light"
          }
        },
        {
          "output_type": "display_data",
          "data": {
            "image/png": "[encoded data removed]",
            "text/plain": [
              "<Figure size 432x288 with 3 Axes>"
            ]
          },
          "metadata": {
            "needs_background": "light"
          }
        }
      ]
    },
    {
      "cell_type": "markdown",
      "metadata": {
        "id": "h72U91rX9ToW"
      },
      "source": [
        "## inspect and cleanup"
      ]
    },
    {
      "cell_type": "code",
      "metadata": {
        "execution": {
          "iopub.status.busy": "2021-09-09T09:10:53.159485Z",
          "iopub.execute_input": "2021-09-09T09:10:53.159935Z",
          "iopub.status.idle": "2021-09-09T09:10:53.248291Z",
          "shell.execute_reply.started": "2021-09-09T09:10:53.159888Z",
          "shell.execute_reply": "2021-09-09T09:10:53.247475Z"
        },
        "trusted": true,
        "colab": {
          "base_uri": "https://localhost:8080/",
          "height": 480
        },
        "id": "K9aQi7Q19ToW",
        "outputId": "e5a01d59-0f40-439e-80d5-3017cf75a54f"
      },
      "source": [
        "df.describe().T"
      ],
      "execution_count": 7,
      "outputs": [
        {
          "output_type": "execute_result",
          "data": {
            "text/html": [
              "<div>\n",
              "<style scoped>\n",
              "    .dataframe tbody tr th:only-of-type {\n",
              "        vertical-align: middle;\n",
              "    }\n",
              "\n",
              "    .dataframe tbody tr th {\n",
              "        vertical-align: top;\n",
              "    }\n",
              "\n",
              "    .dataframe thead th {\n",
              "        text-align: right;\n",
              "    }\n",
              "</style>\n",
              "<table border=\"1\" class=\"dataframe\">\n",
              "  <thead>\n",
              "    <tr style=\"text-align: right;\">\n",
              "      <th></th>\n",
              "      <th>count</th>\n",
              "      <th>mean</th>\n",
              "      <th>std</th>\n",
              "      <th>min</th>\n",
              "      <th>25%</th>\n",
              "      <th>50%</th>\n",
              "      <th>75%</th>\n",
              "      <th>max</th>\n",
              "    </tr>\n",
              "  </thead>\n",
              "  <tbody>\n",
              "    <tr>\n",
              "      <th>p (mbar)</th>\n",
              "      <td>70091.0</td>\n",
              "      <td>989.212842</td>\n",
              "      <td>8.358886</td>\n",
              "      <td>913.60</td>\n",
              "      <td>984.20</td>\n",
              "      <td>989.57</td>\n",
              "      <td>994.720</td>\n",
              "      <td>1015.29</td>\n",
              "    </tr>\n",
              "    <tr>\n",
              "      <th>T (degC)</th>\n",
              "      <td>70091.0</td>\n",
              "      <td>9.450482</td>\n",
              "      <td>8.423384</td>\n",
              "      <td>-22.76</td>\n",
              "      <td>3.35</td>\n",
              "      <td>9.41</td>\n",
              "      <td>15.480</td>\n",
              "      <td>37.28</td>\n",
              "    </tr>\n",
              "    <tr>\n",
              "      <th>Tpot (K)</th>\n",
              "      <td>70091.0</td>\n",
              "      <td>283.493086</td>\n",
              "      <td>8.504424</td>\n",
              "      <td>250.85</td>\n",
              "      <td>277.44</td>\n",
              "      <td>283.46</td>\n",
              "      <td>289.530</td>\n",
              "      <td>311.21</td>\n",
              "    </tr>\n",
              "    <tr>\n",
              "      <th>Tdew (degC)</th>\n",
              "      <td>70091.0</td>\n",
              "      <td>4.956471</td>\n",
              "      <td>6.730081</td>\n",
              "      <td>-24.80</td>\n",
              "      <td>0.24</td>\n",
              "      <td>5.21</td>\n",
              "      <td>10.080</td>\n",
              "      <td>23.06</td>\n",
              "    </tr>\n",
              "    <tr>\n",
              "      <th>rh (%)</th>\n",
              "      <td>70091.0</td>\n",
              "      <td>76.009788</td>\n",
              "      <td>16.474920</td>\n",
              "      <td>13.88</td>\n",
              "      <td>65.21</td>\n",
              "      <td>79.30</td>\n",
              "      <td>89.400</td>\n",
              "      <td>100.00</td>\n",
              "    </tr>\n",
              "    <tr>\n",
              "      <th>VPmax (mbar)</th>\n",
              "      <td>70091.0</td>\n",
              "      <td>13.576576</td>\n",
              "      <td>7.739883</td>\n",
              "      <td>0.97</td>\n",
              "      <td>7.77</td>\n",
              "      <td>11.82</td>\n",
              "      <td>17.610</td>\n",
              "      <td>63.77</td>\n",
              "    </tr>\n",
              "    <tr>\n",
              "      <th>VPact (mbar)</th>\n",
              "      <td>70091.0</td>\n",
              "      <td>9.533968</td>\n",
              "      <td>4.183658</td>\n",
              "      <td>0.81</td>\n",
              "      <td>6.22</td>\n",
              "      <td>8.86</td>\n",
              "      <td>12.360</td>\n",
              "      <td>28.25</td>\n",
              "    </tr>\n",
              "    <tr>\n",
              "      <th>VPdef (mbar)</th>\n",
              "      <td>70091.0</td>\n",
              "      <td>4.042536</td>\n",
              "      <td>4.898549</td>\n",
              "      <td>0.00</td>\n",
              "      <td>0.87</td>\n",
              "      <td>2.19</td>\n",
              "      <td>5.300</td>\n",
              "      <td>46.01</td>\n",
              "    </tr>\n",
              "    <tr>\n",
              "      <th>sh (g/kg)</th>\n",
              "      <td>70091.0</td>\n",
              "      <td>6.022560</td>\n",
              "      <td>2.655812</td>\n",
              "      <td>0.51</td>\n",
              "      <td>3.92</td>\n",
              "      <td>5.59</td>\n",
              "      <td>7.800</td>\n",
              "      <td>18.07</td>\n",
              "    </tr>\n",
              "    <tr>\n",
              "      <th>H2OC (mmol/mol)</th>\n",
              "      <td>70091.0</td>\n",
              "      <td>9.640437</td>\n",
              "      <td>4.234862</td>\n",
              "      <td>0.81</td>\n",
              "      <td>6.29</td>\n",
              "      <td>8.96</td>\n",
              "      <td>12.490</td>\n",
              "      <td>28.74</td>\n",
              "    </tr>\n",
              "    <tr>\n",
              "      <th>rho (g/m**3)</th>\n",
              "      <td>70091.0</td>\n",
              "      <td>1216.061232</td>\n",
              "      <td>39.974263</td>\n",
              "      <td>1059.45</td>\n",
              "      <td>1187.47</td>\n",
              "      <td>1213.80</td>\n",
              "      <td>1242.765</td>\n",
              "      <td>1393.54</td>\n",
              "    </tr>\n",
              "    <tr>\n",
              "      <th>wv (m/s)</th>\n",
              "      <td>70091.0</td>\n",
              "      <td>1.702567</td>\n",
              "      <td>65.447512</td>\n",
              "      <td>-9999.00</td>\n",
              "      <td>0.99</td>\n",
              "      <td>1.76</td>\n",
              "      <td>2.860</td>\n",
              "      <td>14.01</td>\n",
              "    </tr>\n",
              "    <tr>\n",
              "      <th>max. wv (m/s)</th>\n",
              "      <td>70091.0</td>\n",
              "      <td>2.963041</td>\n",
              "      <td>75.597657</td>\n",
              "      <td>-9999.00</td>\n",
              "      <td>1.76</td>\n",
              "      <td>2.98</td>\n",
              "      <td>4.740</td>\n",
              "      <td>23.50</td>\n",
              "    </tr>\n",
              "    <tr>\n",
              "      <th>wd (deg)</th>\n",
              "      <td>70091.0</td>\n",
              "      <td>174.789095</td>\n",
              "      <td>86.619431</td>\n",
              "      <td>0.00</td>\n",
              "      <td>125.30</td>\n",
              "      <td>198.10</td>\n",
              "      <td>234.000</td>\n",
              "      <td>360.00</td>\n",
              "    </tr>\n",
              "  </tbody>\n",
              "</table>\n",
              "</div>"
            ],
            "text/plain": [
              "                   count         mean        std  ...      50%       75%      max\n",
              "p (mbar)         70091.0   989.212842   8.358886  ...   989.57   994.720  1015.29\n",
              "T (degC)         70091.0     9.450482   8.423384  ...     9.41    15.480    37.28\n",
              "Tpot (K)         70091.0   283.493086   8.504424  ...   283.46   289.530   311.21\n",
              "Tdew (degC)      70091.0     4.956471   6.730081  ...     5.21    10.080    23.06\n",
              "rh (%)           70091.0    76.009788  16.474920  ...    79.30    89.400   100.00\n",
              "VPmax (mbar)     70091.0    13.576576   7.739883  ...    11.82    17.610    63.77\n",
              "VPact (mbar)     70091.0     9.533968   4.183658  ...     8.86    12.360    28.25\n",
              "VPdef (mbar)     70091.0     4.042536   4.898549  ...     2.19     5.300    46.01\n",
              "sh (g/kg)        70091.0     6.022560   2.655812  ...     5.59     7.800    18.07\n",
              "H2OC (mmol/mol)  70091.0     9.640437   4.234862  ...     8.96    12.490    28.74\n",
              "rho (g/m**3)     70091.0  1216.061232  39.974263  ...  1213.80  1242.765  1393.54\n",
              "wv (m/s)         70091.0     1.702567  65.447512  ...     1.76     2.860    14.01\n",
              "max. wv (m/s)    70091.0     2.963041  75.597657  ...     2.98     4.740    23.50\n",
              "wd (deg)         70091.0   174.789095  86.619431  ...   198.10   234.000   360.00\n",
              "\n",
              "[14 rows x 8 columns]"
            ]
          },
          "metadata": {},
          "execution_count": 7
        }
      ]
    },
    {
      "cell_type": "markdown",
      "metadata": {
        "id": "PMGrZGvb9ToW"
      },
      "source": [
        "handle weird *Wind Velocity*"
      ]
    },
    {
      "cell_type": "code",
      "metadata": {
        "execution": {
          "iopub.status.busy": "2021-09-09T09:10:53.249382Z",
          "iopub.execute_input": "2021-09-09T09:10:53.249766Z",
          "iopub.status.idle": "2021-09-09T09:10:53.274441Z",
          "shell.execute_reply.started": "2021-09-09T09:10:53.249736Z",
          "shell.execute_reply": "2021-09-09T09:10:53.273380Z"
        },
        "trusted": true,
        "colab": {
          "base_uri": "https://localhost:8080/",
          "height": 195
        },
        "id": "cHFuQtRx9ToW",
        "outputId": "3b6f5fa6-0165-4e56-a5ef-d86ec6d23e76"
      },
      "source": [
        "df.loc[df[WV] < 0, :]"
      ],
      "execution_count": 8,
      "outputs": [
        {
          "output_type": "execute_result",
          "data": {
            "text/html": [
              "<div>\n",
              "<style scoped>\n",
              "    .dataframe tbody tr th:only-of-type {\n",
              "        vertical-align: middle;\n",
              "    }\n",
              "\n",
              "    .dataframe tbody tr th {\n",
              "        vertical-align: top;\n",
              "    }\n",
              "\n",
              "    .dataframe thead th {\n",
              "        text-align: right;\n",
              "    }\n",
              "</style>\n",
              "<table border=\"1\" class=\"dataframe\">\n",
              "  <thead>\n",
              "    <tr style=\"text-align: right;\">\n",
              "      <th></th>\n",
              "      <th>p (mbar)</th>\n",
              "      <th>T (degC)</th>\n",
              "      <th>Tpot (K)</th>\n",
              "      <th>Tdew (degC)</th>\n",
              "      <th>rh (%)</th>\n",
              "      <th>VPmax (mbar)</th>\n",
              "      <th>VPact (mbar)</th>\n",
              "      <th>VPdef (mbar)</th>\n",
              "      <th>sh (g/kg)</th>\n",
              "      <th>H2OC (mmol/mol)</th>\n",
              "      <th>rho (g/m**3)</th>\n",
              "      <th>wv (m/s)</th>\n",
              "      <th>max. wv (m/s)</th>\n",
              "      <th>wd (deg)</th>\n",
              "    </tr>\n",
              "  </thead>\n",
              "  <tbody>\n",
              "    <tr>\n",
              "      <th>343583</th>\n",
              "      <td>990.20</td>\n",
              "      <td>17.98</td>\n",
              "      <td>291.96</td>\n",
              "      <td>12.74</td>\n",
              "      <td>71.40</td>\n",
              "      <td>20.65</td>\n",
              "      <td>14.74</td>\n",
              "      <td>5.90</td>\n",
              "      <td>9.31</td>\n",
              "      <td>14.89</td>\n",
              "      <td>1178.14</td>\n",
              "      <td>-9999.0</td>\n",
              "      <td>-9999.0</td>\n",
              "      <td>359.8</td>\n",
              "    </tr>\n",
              "    <tr>\n",
              "      <th>343589</th>\n",
              "      <td>990.16</td>\n",
              "      <td>18.71</td>\n",
              "      <td>292.70</td>\n",
              "      <td>12.48</td>\n",
              "      <td>67.07</td>\n",
              "      <td>21.61</td>\n",
              "      <td>14.50</td>\n",
              "      <td>7.12</td>\n",
              "      <td>9.16</td>\n",
              "      <td>14.64</td>\n",
              "      <td>1175.26</td>\n",
              "      <td>-9999.0</td>\n",
              "      <td>-9999.0</td>\n",
              "      <td>359.8</td>\n",
              "    </tr>\n",
              "    <tr>\n",
              "      <th>343595</th>\n",
              "      <td>990.15</td>\n",
              "      <td>18.75</td>\n",
              "      <td>292.74</td>\n",
              "      <td>12.27</td>\n",
              "      <td>65.97</td>\n",
              "      <td>21.67</td>\n",
              "      <td>14.29</td>\n",
              "      <td>7.37</td>\n",
              "      <td>9.03</td>\n",
              "      <td>14.44</td>\n",
              "      <td>1175.18</td>\n",
              "      <td>-9999.0</td>\n",
              "      <td>-9999.0</td>\n",
              "      <td>359.8</td>\n",
              "    </tr>\n",
              "  </tbody>\n",
              "</table>\n",
              "</div>"
            ],
            "text/plain": [
              "        p (mbar)  T (degC)  Tpot (K)  ...  wv (m/s)  max. wv (m/s)  wd (deg)\n",
              "343583    990.20     17.98    291.96  ...   -9999.0        -9999.0     359.8\n",
              "343589    990.16     18.71    292.70  ...   -9999.0        -9999.0     359.8\n",
              "343595    990.15     18.75    292.74  ...   -9999.0        -9999.0     359.8\n",
              "\n",
              "[3 rows x 14 columns]"
            ]
          },
          "metadata": {},
          "execution_count": 8
        }
      ]
    },
    {
      "cell_type": "code",
      "metadata": {
        "execution": {
          "iopub.status.busy": "2021-09-09T09:10:53.276901Z",
          "iopub.execute_input": "2021-09-09T09:10:53.277203Z",
          "iopub.status.idle": "2021-09-09T09:10:53.295070Z",
          "shell.execute_reply.started": "2021-09-09T09:10:53.277174Z",
          "shell.execute_reply": "2021-09-09T09:10:53.293967Z"
        },
        "trusted": true,
        "colab": {
          "base_uri": "https://localhost:8080/",
          "height": 0
        },
        "id": "RWufYFuo9ToX",
        "outputId": "35cb735a-5539-4c8f-e4cb-575e8dbffb83"
      },
      "source": [
        "wv = df[WV]\n",
        "bad_wv = wv == -9999.0\n",
        "wv[bad_wv] = 0.0\n",
        "\n",
        "max_wv = df[MAXWV]\n",
        "bad_max_wv = max_wv == -9999.0\n",
        "max_wv[bad_max_wv] = 0.0\n",
        "\n",
        "df[WV].min()"
      ],
      "execution_count": 9,
      "outputs": [
        {
          "output_type": "execute_result",
          "data": {
            "text/plain": [
              "0.0"
            ]
          },
          "metadata": {},
          "execution_count": 9
        }
      ]
    },
    {
      "cell_type": "markdown",
      "metadata": {
        "id": "CutaeJDD9ToX"
      },
      "source": [
        "# Feature Engineering\n",
        "## Wind\n",
        "Angles do not make good model inputs because even though 0 degree and 360 degree are closer, numerically they are not close to each other. It will be easier for the model to interpret if wind direction and wind velocity columns combine to make a wind **vector** from trigonometric equations-\n",
        "\n",
        "$cos(\\theta) = \\frac{base}{hypotenuse}$\n",
        "\n",
        "$sin(\\theta) = \\frac{perpendicular}{hypotenuse}$\n",
        "\n",
        "Here we will remove the columns, WD, WV, MAXWV and insert 4 new columns-\n",
        "1. `Wx`: `x` component of the vector we will get from WV, WD\n",
        "2. `Wy`: `y` component of the vector we will get from WV, WD\n",
        "3. `Max Wx`: `x` component of the vector we will get from MAXWV, WD\n",
        "4. `Max Wy`: `y` component of the vector we will get from WV, WD"
      ]
    },
    {
      "cell_type": "code",
      "metadata": {
        "execution": {
          "iopub.status.busy": "2021-09-09T09:10:53.297048Z",
          "iopub.execute_input": "2021-09-09T09:10:53.297345Z",
          "iopub.status.idle": "2021-09-09T09:10:53.301741Z",
          "shell.execute_reply.started": "2021-09-09T09:10:53.297316Z",
          "shell.execute_reply": "2021-09-09T09:10:53.300690Z"
        },
        "trusted": true,
        "id": "X91ve6EN9ToX"
      },
      "source": [
        "WX = 'Wx'\n",
        "WY = 'Wy'\n",
        "MAXWX = 'Max Wx'\n",
        "MAXWY = 'Max Wy'"
      ],
      "execution_count": 10,
      "outputs": []
    },
    {
      "cell_type": "code",
      "metadata": {
        "execution": {
          "iopub.status.busy": "2021-09-09T09:10:53.303082Z",
          "iopub.execute_input": "2021-09-09T09:10:53.303441Z",
          "iopub.status.idle": "2021-09-09T09:10:53.340850Z",
          "shell.execute_reply.started": "2021-09-09T09:10:53.303412Z",
          "shell.execute_reply": "2021-09-09T09:10:53.339893Z"
        },
        "trusted": true,
        "id": "Ota7GuSv9ToX"
      },
      "source": [
        "wv = df.pop(WV)\n",
        "max_wv = df.pop(MAXWV)\n",
        "# degree to radian\n",
        "wd_rad = df.pop(WD) * (np.pi / 180)\n",
        "\n",
        "df[WX] = wv*np.cos(wd_rad)\n",
        "df[WY] = wv*np.sin(wd_rad)\n",
        "\n",
        "df[MAXWX] = max_wv * np.cos(wd_rad)\n",
        "df[MAXWY] = max_wv * np.sin(wd_rad)"
      ],
      "execution_count": 11,
      "outputs": []
    },
    {
      "cell_type": "markdown",
      "metadata": {
        "id": "lnhP7Pme9ToX"
      },
      "source": [
        "## Time\n",
        "`Date Time` column numerically is not meaningful- it just increases without keeping any periodical essence. But we know that the weather is seasonal hence `Date Time` column can be an important feature for any model. Converting date time to *sin* and *cos* function will give us periodic data. \n",
        "\n",
        "$$\n",
        "day\\_sin = sin(second \\times \\frac{2 * \\pi}{day}) \\\\\n",
        "day\\_cos = cos(second \\times \\frac{2 * \\pi}{day}) \\\\\n",
        "year\\_sin = sin(second \\times \\frac{2 * \\pi}{year}) \\\\\n",
        "year\\_cos = cos(second \\times \\frac{2 * \\pi}{year})\n",
        "$$\n",
        "\n",
        "what happens here is that `day_sin, day_cos` represents the second from a day's perspective. same with `year_sin, year_cos`- represents the second from an year's perspective. To simply put, we get **Point in Day** and **Point in Year** from this 4 features."
      ]
    },
    {
      "cell_type": "code",
      "metadata": {
        "execution": {
          "iopub.status.busy": "2021-09-09T09:10:53.342338Z",
          "iopub.execute_input": "2021-09-09T09:10:53.342659Z",
          "iopub.status.idle": "2021-09-09T09:10:53.894694Z",
          "shell.execute_reply.started": "2021-09-09T09:10:53.342629Z",
          "shell.execute_reply": "2021-09-09T09:10:53.893701Z"
        },
        "trusted": true,
        "id": "a_l224H59ToY"
      },
      "source": [
        "timestamp_s = date_time.map(pd.Timestamp.timestamp)"
      ],
      "execution_count": 12,
      "outputs": []
    },
    {
      "cell_type": "code",
      "metadata": {
        "execution": {
          "iopub.status.busy": "2021-09-09T09:10:53.896132Z",
          "iopub.execute_input": "2021-09-09T09:10:53.896582Z",
          "iopub.status.idle": "2021-09-09T09:10:53.901257Z",
          "shell.execute_reply.started": "2021-09-09T09:10:53.896538Z",
          "shell.execute_reply": "2021-09-09T09:10:53.900208Z"
        },
        "trusted": true,
        "id": "jK9ugNr29ToY"
      },
      "source": [
        "# new columns\n",
        "DAYSIN = 'day sin'\n",
        "DAYCOS = 'day cos'\n",
        "YEARSIN = 'year sin'\n",
        "YEARCOS = 'year cos'"
      ],
      "execution_count": 13,
      "outputs": []
    },
    {
      "cell_type": "code",
      "metadata": {
        "execution": {
          "iopub.status.busy": "2021-09-09T09:10:53.902444Z",
          "iopub.execute_input": "2021-09-09T09:10:53.902713Z",
          "iopub.status.idle": "2021-09-09T09:10:53.926785Z",
          "shell.execute_reply.started": "2021-09-09T09:10:53.902686Z",
          "shell.execute_reply": "2021-09-09T09:10:53.925939Z"
        },
        "trusted": true,
        "id": "-1F-vZRs9ToY"
      },
      "source": [
        "day = 24 * 60 * 60\n",
        "year = (365.2425) * day\n",
        "\n",
        "df[DAYSIN] = np.sin(timestamp_s * (2 * np.pi / day))\n",
        "df[DAYCOS] = np.cos(timestamp_s * (2 * np.pi / day))\n",
        "\n",
        "df[YEARSIN] = np.sin(timestamp_s * (2 * np.pi / year))\n",
        "df[YEARCOS] = np.cos(timestamp_s * (2 * np.pi / year))"
      ],
      "execution_count": 14,
      "outputs": []
    },
    {
      "cell_type": "markdown",
      "metadata": {
        "id": "TkqSIPBf9ToZ"
      },
      "source": [
        "Since from the beginning we sliced the dataset to use only hourly values, these timestamps are of those hours. So is their sin, cos outputs. This means that, for *day sin* and *day cos* will finish a period in 24 samples, while *year sin* and *year cos* will have a period of (24 * 365.2425)"
      ]
    },
    {
      "cell_type": "code",
      "metadata": {
        "execution": {
          "iopub.status.busy": "2021-09-09T09:10:53.927957Z",
          "iopub.execute_input": "2021-09-09T09:10:53.928241Z",
          "iopub.status.idle": "2021-09-09T09:10:54.264631Z",
          "shell.execute_reply.started": "2021-09-09T09:10:53.928214Z",
          "shell.execute_reply": "2021-09-09T09:10:54.263936Z"
        },
        "trusted": true,
        "colab": {
          "base_uri": "https://localhost:8080/",
          "height": 0
        },
        "id": "VDh3Ur6X9ToZ",
        "outputId": "bfb17823-e668-4bbe-a144-50eabf80764f"
      },
      "source": [
        "plt.plot(np.array(df[DAYSIN])[:25])\n",
        "plt.plot(np.array(df[DAYCOS])[:25])\n",
        "plt.xlabel('Time [h]')\n",
        "plt.title('Time of day signal')\n",
        "plt.show()\n",
        "\n",
        "plt.plot(np.array(df[YEARSIN])[:10000])\n",
        "plt.plot(np.array(df[YEARCOS])[:10000])\n",
        "plt.xlabel('Time [h]')\n",
        "plt.title('Time of day signal')\n",
        "plt.show()"
      ],
      "execution_count": 15,
      "outputs": [
        {
          "output_type": "display_data",
          "data": {
            "image/png": "[encoded data removed]",
            "text/plain": [
              "<Figure size 432x288 with 1 Axes>"
            ]
          },
          "metadata": {
            "needs_background": "light"
          }
        },
        {
          "output_type": "display_data",
          "data": {
            "image/png": "[encoded data removed]",
            "text/plain": [
              "<Figure size 432x288 with 1 Axes>"
            ]
          },
          "metadata": {
            "needs_background": "light"
          }
        }
      ]
    },
    {
      "cell_type": "markdown",
      "metadata": {
        "execution": {
          "iopub.status.busy": "2021-08-25T15:48:11.783175Z",
          "iopub.execute_input": "2021-08-25T15:48:11.783539Z",
          "iopub.status.idle": "2021-08-25T15:48:11.789945Z",
          "shell.execute_reply.started": "2021-08-25T15:48:11.783511Z",
          "shell.execute_reply": "2021-08-25T15:48:11.788803Z"
        },
        "id": "n-bSYZ4z9ToZ"
      },
      "source": [
        "# Preprocess\n",
        "## Split data\n",
        "(.7, .2, .1) split for training (learn model params), validation (learn hyperparameters), and test (view generalized error) sets. split without shuffling and resons for doing so,\n",
        "- make consecutive windows possible\n",
        "- it makes sense for a time-series model to predict samples that came after training samples"
      ]
    },
    {
      "cell_type": "code",
      "metadata": {
        "execution": {
          "iopub.status.busy": "2021-09-09T09:10:54.265640Z",
          "iopub.execute_input": "2021-09-09T09:10:54.266073Z",
          "iopub.status.idle": "2021-09-09T09:10:54.272088Z",
          "shell.execute_reply.started": "2021-09-09T09:10:54.266040Z",
          "shell.execute_reply": "2021-09-09T09:10:54.271006Z"
        },
        "trusted": true,
        "id": "ibaKd2ml9ToZ"
      },
      "source": [
        "col_indices = {name: i for i, name in enumerate(df.columns)}\n",
        "n = len(df)\n",
        "\n",
        "train_df = df[0:int(n * 0.7)]\n",
        "val_df = df[int(n * 0.7):int(n * 0.9)]\n",
        "test_df = df[int(n * 0.9):]\n",
        "\n",
        "num_features = df.shape[1]"
      ],
      "execution_count": 16,
      "outputs": []
    },
    {
      "cell_type": "markdown",
      "metadata": {
        "id": "U9LkkLW19ToZ"
      },
      "source": [
        "##  Normalize\n",
        "subtract the mean and divide by standard deviation. this gives us how many SD away each value is. This way values may change but the relation between samples does not.\n",
        "\n",
        "the mean and SD should only be calculated from training data, because model should not have access to validation and test sets as any model can only learn from training sets\n",
        "\n",
        "the model should not also have access to future values- as it happens when we calculate mean on entire training sets and shift each value with it. Because in practice, it is not possible to manipulate todays value using future values that we will not have. But that would make the situation complex and let's just use simple average."
      ]
    },
    {
      "cell_type": "code",
      "metadata": {
        "execution": {
          "iopub.status.busy": "2021-09-09T09:10:54.273228Z",
          "iopub.execute_input": "2021-09-09T09:10:54.273495Z",
          "iopub.status.idle": "2021-09-09T09:10:54.313026Z",
          "shell.execute_reply.started": "2021-09-09T09:10:54.273469Z",
          "shell.execute_reply": "2021-09-09T09:10:54.311956Z"
        },
        "trusted": true,
        "id": "wQmsid8K9ToZ"
      },
      "source": [
        "train_mean = train_df.mean()\n",
        "train_std = train_df.std()\n",
        "\n",
        "train_df = (train_df - train_mean) / train_std\n",
        "val_df = (val_df - train_mean) / train_std\n",
        "test_df = (test_df - train_mean) / train_std"
      ],
      "execution_count": 17,
      "outputs": []
    },
    {
      "cell_type": "markdown",
      "metadata": {
        "execution": {
          "iopub.status.busy": "2021-08-25T15:51:18.496499Z",
          "iopub.execute_input": "2021-08-25T15:51:18.496837Z",
          "iopub.status.idle": "2021-08-25T15:51:18.503172Z",
          "shell.execute_reply.started": "2021-08-25T15:51:18.496809Z",
          "shell.execute_reply": "2021-08-25T15:51:18.501723Z"
        },
        "id": "1eApgu-x9Toa"
      },
      "source": [
        "> Note on `pd.melt` that we will use next\n",
        "> unpivot a dataframe from wide to long format"
      ]
    },
    {
      "cell_type": "code",
      "metadata": {
        "execution": {
          "iopub.status.busy": "2021-09-09T09:10:54.314387Z",
          "iopub.execute_input": "2021-09-09T09:10:54.314701Z",
          "iopub.status.idle": "2021-09-09T09:10:54.352886Z",
          "shell.execute_reply.started": "2021-09-09T09:10:54.314670Z",
          "shell.execute_reply": "2021-09-09T09:10:54.351960Z"
        },
        "trusted": true,
        "colab": {
          "base_uri": "https://localhost:8080/",
          "height": 0
        },
        "id": "hD7PBVMV9Toa",
        "outputId": "6cbdcaf4-a55c-41b9-da0f-ee9e0b9cb6c1"
      },
      "source": [
        "wide_df = pd.DataFrame(np.random.rand(3,4), columns=[\"A\", \"B\",\"C\",\"D\"])\n",
        "print(\"a normal dataframe\")\n",
        "display(wide_df)\n",
        "\n",
        "# take A to be identifier variable, B C to be values of A but in different timesteps\n",
        "long_df = wide_df.melt(id_vars=('A'), value_vars=(\"B\", \"C\"))\n",
        "print(\"column B, C melted on A\")\n",
        "display(long_df)\n",
        "# considers all column to be values in different timesteps\n",
        "long_df = wide_df.melt()\n",
        "print(\"all columns melted on index\")\n",
        "display(long_df)"
      ],
      "execution_count": 18,
      "outputs": [
        {
          "output_type": "stream",
          "name": "stdout",
          "text": [
            "a normal dataframe\n"
          ]
        },
        {
          "output_type": "display_data",
          "data": {
            "text/html": [
              "<div>\n",
              "<style scoped>\n",
              "    .dataframe tbody tr th:only-of-type {\n",
              "        vertical-align: middle;\n",
              "    }\n",
              "\n",
              "    .dataframe tbody tr th {\n",
              "        vertical-align: top;\n",
              "    }\n",
              "\n",
              "    .dataframe thead th {\n",
              "        text-align: right;\n",
              "    }\n",
              "</style>\n",
              "<table border=\"1\" class=\"dataframe\">\n",
              "  <thead>\n",
              "    <tr style=\"text-align: right;\">\n",
              "      <th></th>\n",
              "      <th>A</th>\n",
              "      <th>B</th>\n",
              "      <th>C</th>\n",
              "      <th>D</th>\n",
              "    </tr>\n",
              "  </thead>\n",
              "  <tbody>\n",
              "    <tr>\n",
              "      <th>0</th>\n",
              "      <td>0.938411</td>\n",
              "      <td>0.118413</td>\n",
              "      <td>0.132023</td>\n",
              "      <td>0.543779</td>\n",
              "    </tr>\n",
              "    <tr>\n",
              "      <th>1</th>\n",
              "      <td>0.031110</td>\n",
              "      <td>0.757294</td>\n",
              "      <td>0.428145</td>\n",
              "      <td>0.225100</td>\n",
              "    </tr>\n",
              "    <tr>\n",
              "      <th>2</th>\n",
              "      <td>0.959325</td>\n",
              "      <td>0.162840</td>\n",
              "      <td>0.783692</td>\n",
              "      <td>0.163259</td>\n",
              "    </tr>\n",
              "  </tbody>\n",
              "</table>\n",
              "</div>"
            ],
            "text/plain": [
              "          A         B         C         D\n",
              "0  0.938411  0.118413  0.132023  0.543779\n",
              "1  0.031110  0.757294  0.428145  0.225100\n",
              "2  0.959325  0.162840  0.783692  0.163259"
            ]
          },
          "metadata": {}
        },
        {
          "output_type": "stream",
          "name": "stdout",
          "text": [
            "column B, C melted on A\n"
          ]
        },
        {
          "output_type": "display_data",
          "data": {
            "text/html": [
              "<div>\n",
              "<style scoped>\n",
              "    .dataframe tbody tr th:only-of-type {\n",
              "        vertical-align: middle;\n",
              "    }\n",
              "\n",
              "    .dataframe tbody tr th {\n",
              "        vertical-align: top;\n",
              "    }\n",
              "\n",
              "    .dataframe thead th {\n",
              "        text-align: right;\n",
              "    }\n",
              "</style>\n",
              "<table border=\"1\" class=\"dataframe\">\n",
              "  <thead>\n",
              "    <tr style=\"text-align: right;\">\n",
              "      <th></th>\n",
              "      <th>A</th>\n",
              "      <th>variable</th>\n",
              "      <th>value</th>\n",
              "    </tr>\n",
              "  </thead>\n",
              "  <tbody>\n",
              "    <tr>\n",
              "      <th>0</th>\n",
              "      <td>0.938411</td>\n",
              "      <td>B</td>\n",
              "      <td>0.118413</td>\n",
              "    </tr>\n",
              "    <tr>\n",
              "      <th>1</th>\n",
              "      <td>0.031110</td>\n",
              "      <td>B</td>\n",
              "      <td>0.757294</td>\n",
              "    </tr>\n",
              "    <tr>\n",
              "      <th>2</th>\n",
              "      <td>0.959325</td>\n",
              "      <td>B</td>\n",
              "      <td>0.162840</td>\n",
              "    </tr>\n",
              "    <tr>\n",
              "      <th>3</th>\n",
              "      <td>0.938411</td>\n",
              "      <td>C</td>\n",
              "      <td>0.132023</td>\n",
              "    </tr>\n",
              "    <tr>\n",
              "      <th>4</th>\n",
              "      <td>0.031110</td>\n",
              "      <td>C</td>\n",
              "      <td>0.428145</td>\n",
              "    </tr>\n",
              "    <tr>\n",
              "      <th>5</th>\n",
              "      <td>0.959325</td>\n",
              "      <td>C</td>\n",
              "      <td>0.783692</td>\n",
              "    </tr>\n",
              "  </tbody>\n",
              "</table>\n",
              "</div>"
            ],
            "text/plain": [
              "          A variable     value\n",
              "0  0.938411        B  0.118413\n",
              "1  0.031110        B  0.757294\n",
              "2  0.959325        B  0.162840\n",
              "3  0.938411        C  0.132023\n",
              "4  0.031110        C  0.428145\n",
              "5  0.959325        C  0.783692"
            ]
          },
          "metadata": {}
        },
        {
          "output_type": "stream",
          "name": "stdout",
          "text": [
            "all columns melted on index\n"
          ]
        },
        {
          "output_type": "display_data",
          "data": {
            "text/html": [
              "<div>\n",
              "<style scoped>\n",
              "    .dataframe tbody tr th:only-of-type {\n",
              "        vertical-align: middle;\n",
              "    }\n",
              "\n",
              "    .dataframe tbody tr th {\n",
              "        vertical-align: top;\n",
              "    }\n",
              "\n",
              "    .dataframe thead th {\n",
              "        text-align: right;\n",
              "    }\n",
              "</style>\n",
              "<table border=\"1\" class=\"dataframe\">\n",
              "  <thead>\n",
              "    <tr style=\"text-align: right;\">\n",
              "      <th></th>\n",
              "      <th>variable</th>\n",
              "      <th>value</th>\n",
              "    </tr>\n",
              "  </thead>\n",
              "  <tbody>\n",
              "    <tr>\n",
              "      <th>0</th>\n",
              "      <td>A</td>\n",
              "      <td>0.938411</td>\n",
              "    </tr>\n",
              "    <tr>\n",
              "      <th>1</th>\n",
              "      <td>A</td>\n",
              "      <td>0.031110</td>\n",
              "    </tr>\n",
              "    <tr>\n",
              "      <th>2</th>\n",
              "      <td>A</td>\n",
              "      <td>0.959325</td>\n",
              "    </tr>\n",
              "    <tr>\n",
              "      <th>3</th>\n",
              "      <td>B</td>\n",
              "      <td>0.118413</td>\n",
              "    </tr>\n",
              "    <tr>\n",
              "      <th>4</th>\n",
              "      <td>B</td>\n",
              "      <td>0.757294</td>\n",
              "    </tr>\n",
              "    <tr>\n",
              "      <th>5</th>\n",
              "      <td>B</td>\n",
              "      <td>0.162840</td>\n",
              "    </tr>\n",
              "    <tr>\n",
              "      <th>6</th>\n",
              "      <td>C</td>\n",
              "      <td>0.132023</td>\n",
              "    </tr>\n",
              "    <tr>\n",
              "      <th>7</th>\n",
              "      <td>C</td>\n",
              "      <td>0.428145</td>\n",
              "    </tr>\n",
              "    <tr>\n",
              "      <th>8</th>\n",
              "      <td>C</td>\n",
              "      <td>0.783692</td>\n",
              "    </tr>\n",
              "    <tr>\n",
              "      <th>9</th>\n",
              "      <td>D</td>\n",
              "      <td>0.543779</td>\n",
              "    </tr>\n",
              "    <tr>\n",
              "      <th>10</th>\n",
              "      <td>D</td>\n",
              "      <td>0.225100</td>\n",
              "    </tr>\n",
              "    <tr>\n",
              "      <th>11</th>\n",
              "      <td>D</td>\n",
              "      <td>0.163259</td>\n",
              "    </tr>\n",
              "  </tbody>\n",
              "</table>\n",
              "</div>"
            ],
            "text/plain": [
              "   variable     value\n",
              "0         A  0.938411\n",
              "1         A  0.031110\n",
              "2         A  0.959325\n",
              "3         B  0.118413\n",
              "4         B  0.757294\n",
              "5         B  0.162840\n",
              "6         C  0.132023\n",
              "7         C  0.428145\n",
              "8         C  0.783692\n",
              "9         D  0.543779\n",
              "10        D  0.225100\n",
              "11        D  0.163259"
            ]
          },
          "metadata": {}
        }
      ]
    },
    {
      "cell_type": "code",
      "metadata": {
        "execution": {
          "iopub.status.busy": "2021-09-09T09:10:54.354192Z",
          "iopub.execute_input": "2021-09-09T09:10:54.354490Z",
          "iopub.status.idle": "2021-09-09T09:11:00.718123Z",
          "shell.execute_reply.started": "2021-09-09T09:10:54.354460Z",
          "shell.execute_reply": "2021-09-09T09:11:00.717195Z"
        },
        "trusted": true,
        "colab": {
          "base_uri": "https://localhost:8080/",
          "height": 0
        },
        "id": "hHXB5iuA9Toa",
        "outputId": "a0067569-3a93-43ab-c354-ab89bc348cdb"
      },
      "source": [
        "df_std = (df - train_mean) / train_std\n",
        "df_std = df_std.melt(var_name='Column', value_name='Normalized')\n",
        "\n",
        "plt.figure(figsize=(12,6))\n",
        "ax = sns.violinplot(x='Column', y='Normalized', data=df_std)\n",
        "ax.set_ylabel(\"STD of Normalized Values\")\n",
        "_ = ax.set_xticklabels(df.keys(), rotation=90)"
      ],
      "execution_count": 19,
      "outputs": [
        {
          "output_type": "display_data",
          "data": {
            "image/png": "[encoded data removed]",
            "text/plain": [
              "<Figure size 864x432 with 1 Axes>"
            ]
          },
          "metadata": {
            "needs_background": "light"
          }
        }
      ]
    },
    {
      "cell_type": "markdown",
      "metadata": {
        "id": "4x0675nJ9Toa"
      },
      "source": [
        "# Data Windowing"
      ]
    },
    {
      "cell_type": "markdown",
      "metadata": {
        "id": "Mlq6Gasf9Toa"
      },
      "source": [
        "The models in this tutorial will make a set of predictions based on a window of consecutive samples from the data.\n",
        "\n",
        "The main features of the input windows are:\n",
        "\n",
        "- The width (number of time steps) of the input and label windows.\n",
        "- The time offset between them (difference between start of input timesteps and start of label timesteps)\n",
        "- Which features are used as inputs, labels, or both.\n",
        "\n",
        "\n",
        "With this type of problem, there can be \n",
        "- single-feature-output (each output is a scalar), and multi-feature-output (each output is a vector) predictions\n",
        "- single-time-step, and mulit-time-step predictions"
      ]
    },
    {
      "cell_type": "markdown",
      "metadata": {
        "id": "4frg-A_79Tob"
      },
      "source": [
        "## Defining `Dataset` Class \n",
        "- data split for train, val, test will be outside the `dataset` class (which we already did a couple of cells above)\n",
        "- each of train, val, test will have different object of the same class\n",
        "- class will have an example batch\n",
        "- class will return inputs and labels separately\n",
        "- class will have a plot method that will plot the example sample\n",
        "- each object will have shape `(batches, timesteps, features)` for input and `(batches, timesteps, labels)` for output\n",
        "- windowing will happen in `_make_window` and feature, target split will happen in `_split`\n",
        "- the whole process first makes all the windows, then splits them into features and targets"
      ]
    },
    {
      "cell_type": "code",
      "metadata": {
        "execution": {
          "iopub.status.busy": "2021-09-09T09:11:00.719797Z",
          "iopub.execute_input": "2021-09-09T09:11:00.720262Z",
          "iopub.status.idle": "2021-09-09T09:11:00.756899Z",
          "shell.execute_reply.started": "2021-09-09T09:11:00.720219Z",
          "shell.execute_reply": "2021-09-09T09:11:00.755688Z"
        },
        "trusted": true,
        "colab": {
          "base_uri": "https://localhost:8080/",
          "height": 0
        },
        "id": "oPzT1br29Toc",
        "outputId": "4c5f166f-31c5-4efa-bc48-381490790667"
      },
      "source": [
        "a = torch.tensor([1,2,3,4])\n",
        "print(\"before a.shape:\", a.shape)\n",
        "torch.unsqueeze(a, 1).shape, torch.unsqueeze(a, 1)"
      ],
      "execution_count": 20,
      "outputs": [
        {
          "output_type": "stream",
          "name": "stdout",
          "text": [
            "before a.shape: torch.Size([4])\n"
          ]
        },
        {
          "output_type": "execute_result",
          "data": {
            "text/plain": [
              "(torch.Size([4, 1]), tensor([[1],\n",
              "         [2],\n",
              "         [3],\n",
              "         [4]]))"
            ]
          },
          "metadata": {},
          "execution_count": 20
        }
      ]
    },
    {
      "cell_type": "code",
      "metadata": {
        "execution": {
          "iopub.status.busy": "2021-09-09T09:11:00.758599Z",
          "iopub.execute_input": "2021-09-09T09:11:00.759038Z",
          "iopub.status.idle": "2021-09-09T09:11:00.791048Z",
          "shell.execute_reply.started": "2021-09-09T09:11:00.758994Z",
          "shell.execute_reply": "2021-09-09T09:11:00.790016Z"
        },
        "trusted": true,
        "id": "otB5AonE9Toc"
      },
      "source": [
        "class TimeSeriesDataset(Dataset):\n",
        "    \"\"\"a timeseries dataset with window maker (batch, time, feature)\"\"\"\n",
        "    def __init__(self, df, input_width, label_width, shift=1, step=1, label_cols=None, portion=\"train\"):\n",
        "        \"\"\"\n",
        "        Logical Process for this dataset-\n",
        "        1. split the 2D data into 3D windowed data\n",
        "        2. before accessing each window, split them into \n",
        "        \n",
        "        Attributes\n",
        "        ----------\n",
        "        df: Dataframe\n",
        "        label_cols: Iterable of str [Optional]\n",
        "            contains the column names to use as labels\n",
        "            \n",
        "        label_cols_indices: dict [Optional]\n",
        "            keys are `label_cols` items, values are `0...len(label_cols)-1`\n",
        "            \n",
        "        col_indices: dict\n",
        "            keys are `df` columns, values are `0...len(df.columns)-1`\n",
        "            \n",
        "        total_window_size: int\n",
        "            number of timesteps a single window will take\n",
        "            \n",
        "        shift: int\n",
        "            defines how many timesteps each label will be away from its inputs\n",
        "            \n",
        "        step: int\n",
        "            defines how many timesteps each window will be away from starting of the previous window\n",
        "        \"\"\"\n",
        "        # store raw data in pandas' dataframe\n",
        "        self.df = df\n",
        "        \n",
        "        # work out the label column indices\n",
        "        self.label_cols = label_cols\n",
        "        if self.label_cols:\n",
        "            self.label_cols_indices = {name:i for i, name in enumerate(self.label_cols)}\n",
        "        \n",
        "        self.col_indices = {name:i for i, name in enumerate(df.columns)}\n",
        "        \n",
        "        # work out the window parameters\n",
        "        self.input_width = input_width\n",
        "        self.label_width = label_width\n",
        "        self.shift = shift\n",
        "        self.step = step\n",
        "        \n",
        "        # for a specific window, input samples\n",
        "        # and label samples will be taken from\n",
        "        # this window\n",
        "        self.total_window_size = input_width + shift\n",
        "        \n",
        "        # will slice each window with these\n",
        "        self.input_slice = slice(0, input_width)\n",
        "        self.label_slice = slice(self.total_window_size - label_width, None)\n",
        "        \n",
        "        # only for example \n",
        "        self.input_indices = np.arange(self.total_window_size)[self.input_slice]\n",
        "        self.label_indices = np.arange(self.total_window_size)[self.label_slice]\n",
        "        \n",
        "        # actual data which will be used in model\n",
        "        self.data = self._window_generator(data=df.values,\n",
        "                                          sequence_length=self.total_window_size,\n",
        "                                          sequence_stride=self.step)\n",
        "        \n",
        "        # to torch.Tensor\n",
        "        _tmp = [self._split_within_window(sample) for sample in self.data]\n",
        "        \n",
        "        self.X = torch.stack([\n",
        "            torch.tensor(it[0],dtype=torch.double).to(DEVICE) for it in _tmp\n",
        "        ], dim=0)\n",
        "        \n",
        "        self.Y = torch.stack([\n",
        "            torch.tensor(it[1], dtype=torch.double).to(DEVICE) for it in _tmp\n",
        "        ], dim=0)\n",
        "        \n",
        "        \n",
        "        # example windows (first three)\n",
        "        self.example = [(torch.unsqueeze(self.X[i].detach(), 0), \n",
        "                         torch.unsqueeze(self.Y[i].detach(), 0)) for i in range(3)]\n",
        "            \n",
        "        \n",
        "    def _window_generator(self, data, sequence_length, sequence_stride=1):\n",
        "        \"\"\"\n",
        "        this is a stripped down version of https://github.com/keras-team/keras/blob/master/keras/preprocessing/timeseries.py\n",
        "        \n",
        "        Parameters\n",
        "        ----------\n",
        "        data: ndarray.\n",
        "            containing consecutive data points (timesteps). axis 0 is expected to be the time dimension.\n",
        "            \n",
        "        sequence_length: int\n",
        "            length of the output sequences (number of timesteps in a single window)\n",
        "            \n",
        "        sequence_stride: int\n",
        "            period between successive output sequences. For stride `s`, output samples \n",
        "            would start at index `data[i]`, `data[i+s]`, `data[i + 2 * s]`, etc\n",
        "            \n",
        "        Returns\n",
        "        -------\n",
        "        sequences: ndarray\n",
        "            this is window collections where each window has shape (timesteps, features)\n",
        "        \"\"\"\n",
        "        if sequence_length <= 0:\n",
        "            raise ValueError(f\"validation failed for `sequence_length` {sequence_length}. Each window must contain at least 1 sample.\")\n",
        "        if sequence_stride <= 0:\n",
        "            raise ValueError(f'`sequence_stride` must be higher than 0. Received: '\n",
        "                     f'sequence_stride={sequence_stride}')\n",
        "        if sequence_stride >= len(data):\n",
        "            raise ValueError(f'`sequence_stride` must be lower than the length of the '\n",
        "                     f'data. Received: sequence_stride={sequence_stride}, for '\n",
        "                     f'data of length {len(data)}')\n",
        "        # (number of windows, timesteps in each window, features)\n",
        "        output_shape = (int(np.ceil((data.shape[0]-sequence_length) / sequence_stride)),\n",
        "                        sequence_length,\n",
        "                        data.shape[1])\n",
        "        \n",
        "        # np.stride are distance between consecutive items in memory\n",
        "        strides = (data.strides[0] * sequence_stride, ) + data.strides\n",
        "        to_return = as_strided(data, output_shape, strides, writeable=False).copy()\n",
        "        \n",
        "        # make writeable\n",
        "        to_return.flags[\"WRITEABLE\"] = True\n",
        "        return to_return\n",
        "    \n",
        "    \n",
        "    \n",
        "    def _split_within_window(self, sample):\n",
        "        \"\"\"\n",
        "        splits a winodw into inputs and labels\n",
        "        \n",
        "        \n",
        "        \"\"\"\n",
        "        inputs = sample[self.input_slice, :]\n",
        "        labels = sample[self.label_slice, :]\n",
        "        \n",
        "        if self.label_cols is not None:\n",
        "            labels = np.stack(\n",
        "                [labels[:, self.col_indices[name]] for name in self.label_cols],\n",
        "                axis=-1)\n",
        "\n",
        "        return inputs, labels\n",
        "    \n",
        "    \n",
        "    def plot(self, model=None, label_col_no=0, max_subplots=3):\n",
        "        \"\"\"\n",
        "        plot each examples timesteps. if model is provided, plot the predictions too.\n",
        "\n",
        "        Parameters\n",
        "        ----------\n",
        "        model: nn.Module\n",
        "        label_col_no: int\n",
        "            determines which column from output cols to plot \n",
        "            and determines respective input column from df.columns to plot\n",
        "\n",
        "        max_subplots: int\n",
        "            determines how many subplots should there be.\n",
        "        \"\"\"\n",
        "        plt.figure(figsize=(12, 8))\n",
        "        print(model)\n",
        "\n",
        "        # split inputs, labels\n",
        "        inputs = [it[0] for it in self.example]\n",
        "        labels = [it[1] for it in self.example]\n",
        "\n",
        "        # find which column from df.columns will be plotted\n",
        "        try:\n",
        "            print(self.label_cols_indices)\n",
        "            # inputs and labels do not have same features\n",
        "            input_feature_idx = self.col_indices[self.label_cols[label_col_no]]\n",
        "        except AttributeError:\n",
        "            # both inputs and labels contain all features\n",
        "            input_feature_idx = label_col_no\n",
        "\n",
        "\n",
        "        # number of inputs vs max_subplots\n",
        "        max_n = min(max_subplots, len(inputs))\n",
        "        for n in range(max_n):\n",
        "            plt.subplot(max_n, 1, n+1)\n",
        "\n",
        "            # y-axis title \n",
        "            plt.ylabel(f'{self.label_cols[label_col_no]} (normalized)')\n",
        "\n",
        "            # timestep vs inputs\n",
        "            plt.plot(self.input_indices, torch.flatten(inputs[n][:, :, input_feature_idx]),\n",
        "                     label='inputs', marker='.', zorder=-10)\n",
        "\n",
        "            # plot the timesteps vs outputs\n",
        "            plt.scatter(self.label_indices, torch.flatten(labels[n][:, :, label_col_no]),\n",
        "                        edgecolors='k', label='labels', c='#2ca02c', s=64)\n",
        "\n",
        "            # plot prediction when model is provided\n",
        "            if model:\n",
        "                model.eval()\n",
        "                # nth example\n",
        "                predictions = model(inputs[n])\n",
        "                predictions = predictions.detach()\n",
        "\n",
        "                # plot the timestep vs predicted output\n",
        "                plt.scatter(self.label_indices, torch.flatten(predictions[:, :, label_col_no]),\n",
        "                          marker='X', edgecolors='k', label='predictions',\n",
        "                          c='#ff7f0e', s=64)\n",
        "\n",
        "            if n == 0:\n",
        "                plt.legend()\n",
        "\n",
        "        plt.xlabel('Time [h]')\n",
        "    \n",
        "    \n",
        "    def __len__(self):\n",
        "        return len(self.data)\n",
        "\n",
        "\n",
        "    def __getitem__(self, idx):\n",
        "        # must return 3D\n",
        "        inputs =self.X[idx]\n",
        "        labels = self.Y[idx]\n",
        "        \n",
        "        # set specific shape (window, time, feature)\n",
        "#         inputs = torch.reshape(inputs, (-1, self.input_width, inputs.shape[-1]))\n",
        "#         labels = torch.reshape(labels, (-1, self.label_width, labels.shape[-1]))\n",
        "        \n",
        "        return inputs, labels\n",
        "        \n",
        "        \n",
        "    def __repr__(self):\n",
        "        return '\\n'.join([\n",
        "            f'Total window size: {self.total_window_size}',\n",
        "            f'Input indices: {self.input_indices}',\n",
        "            f'Label indices: {self.label_indices}',\n",
        "            f'Label column name(s): {self.label_cols}'])"
      ],
      "execution_count": 64,
      "outputs": []
    },
    {
      "cell_type": "code",
      "metadata": {
        "execution": {
          "iopub.status.busy": "2021-09-09T09:11:00.792531Z",
          "iopub.execute_input": "2021-09-09T09:11:00.792970Z",
          "iopub.status.idle": "2021-09-09T09:11:01.955546Z",
          "shell.execute_reply.started": "2021-09-09T09:11:00.792924Z",
          "shell.execute_reply": "2021-09-09T09:11:01.954349Z"
        },
        "trusted": true,
        "colab": {
          "base_uri": "https://localhost:8080/",
          "height": 0
        },
        "id": "okqrSymQ9Tod",
        "outputId": "422e61ca-33b0-425b-eac1-7205fe828fc3"
      },
      "source": [
        "tsd = TimeSeriesDataset(df=train_df,\n",
        "                       input_width=5,\n",
        "                       label_width=2,\n",
        "                       shift=2,\n",
        "                        step=2,\n",
        "                       label_cols=[T, RHO])\n",
        "print(tsd)"
      ],
      "execution_count": 22,
      "outputs": [
        {
          "output_type": "stream",
          "name": "stdout",
          "text": [
            "Total window size: 7\n",
            "Input indices: [0 1 2 3 4]\n",
            "Label indices: [5 6]\n",
            "Label column name(s): ['T (degC)', 'rho (g/m**3)']\n"
          ]
        }
      ]
    },
    {
      "cell_type": "code",
      "metadata": {
        "execution": {
          "iopub.status.busy": "2021-09-09T09:11:01.957069Z",
          "iopub.execute_input": "2021-09-09T09:11:01.957472Z",
          "iopub.status.idle": "2021-09-09T09:11:01.965602Z",
          "shell.execute_reply.started": "2021-09-09T09:11:01.957427Z",
          "shell.execute_reply": "2021-09-09T09:11:01.964680Z"
        },
        "trusted": true,
        "colab": {
          "base_uri": "https://localhost:8080/",
          "height": 0
        },
        "id": "dWjp_DxY9Tod",
        "outputId": "f320cb2e-34e9-4bef-af70-7e579cd3dd5e"
      },
      "source": [
        "tsd.input_indices, tsd.example[0][0].shape, tsd.example[0][0][:, :, 0].shape"
      ],
      "execution_count": 23,
      "outputs": [
        {
          "output_type": "execute_result",
          "data": {
            "text/plain": [
              "(array([0, 1, 2, 3, 4]), torch.Size([1, 5, 19]), torch.Size([1, 5]))"
            ]
          },
          "metadata": {},
          "execution_count": 23
        }
      ]
    },
    {
      "cell_type": "code",
      "metadata": {
        "execution": {
          "iopub.status.busy": "2021-09-09T09:11:01.966764Z",
          "iopub.execute_input": "2021-09-09T09:11:01.967069Z",
          "iopub.status.idle": "2021-09-09T09:11:02.463099Z",
          "shell.execute_reply.started": "2021-09-09T09:11:01.967040Z",
          "shell.execute_reply": "2021-09-09T09:11:02.462109Z"
        },
        "trusted": true,
        "colab": {
          "base_uri": "https://localhost:8080/",
          "height": 511
        },
        "id": "kY7RjOsz9Tod",
        "outputId": "3ea26eb5-77dc-403c-a61a-35ad897561f5"
      },
      "source": [
        "tsd.plot()"
      ],
      "execution_count": 24,
      "outputs": [
        {
          "output_type": "stream",
          "name": "stdout",
          "text": [
            "None\n"
          ]
        },
        {
          "output_type": "display_data",
          "data": {
            "image/png": "[encoded data removed]",
            "text/plain": [
              "<Figure size 864x576 with 3 Axes>"
            ]
          },
          "metadata": {
            "needs_background": "light"
          }
        }
      ]
    },
    {
      "cell_type": "markdown",
      "metadata": {
        "id": "lC11XebR9Toe"
      },
      "source": [
        "# Training Utility"
      ]
    },
    {
      "cell_type": "code",
      "metadata": {
        "execution": {
          "iopub.status.busy": "2021-09-09T09:11:02.464340Z",
          "iopub.execute_input": "2021-09-09T09:11:02.464653Z",
          "iopub.status.idle": "2021-09-09T09:11:02.473137Z",
          "shell.execute_reply.started": "2021-09-09T09:11:02.464621Z",
          "shell.execute_reply": "2021-09-09T09:11:02.472015Z"
        },
        "trusted": true,
        "id": "k-HTwcLn9Toe"
      },
      "source": [
        "class History:\n",
        "    def __init__(self, model):\n",
        "        self.model_info = str(model)\n",
        "        self.train_accuracy = []\n",
        "        self.val_accuracy = []\n",
        "        self.train_loss = []\n",
        "        self.val_loss = []\n",
        "        \n",
        "    def plot(self, figsize=(10,5), xlabel=\"Epoch\", ylabel=\"loss\"):\n",
        "        fig, ax = plt.subplots(figsize=figsize)\n",
        "        if len(self.train_loss) > 0:\n",
        "            ax.plot(range(len(self.train_loss)), self.train_loss, label='train_loss')\n",
        "            \n",
        "        if len(self.val_loss) > 0:\n",
        "            ax.plot(range(len(self.val_loss)), self.val_loss, label='val_loss')\n",
        "        \n",
        "        ax.set_xlabel(xlabel)\n",
        "        ax.set_ylabel(ylabel)\n",
        "        ax.legend()\n",
        "        \n",
        "        plt.show()"
      ],
      "execution_count": 25,
      "outputs": []
    },
    {
      "cell_type": "code",
      "metadata": {
        "execution": {
          "iopub.status.busy": "2021-09-09T09:11:02.474406Z",
          "iopub.execute_input": "2021-09-09T09:11:02.474714Z",
          "iopub.status.idle": "2021-09-09T09:11:02.486945Z",
          "shell.execute_reply.started": "2021-09-09T09:11:02.474684Z",
          "shell.execute_reply": "2021-09-09T09:11:02.485621Z"
        },
        "trusted": true,
        "id": "eWGo2DW49Toe"
      },
      "source": [
        "# settings\n",
        "val_performance = {}\n",
        "performance = {}\n",
        "lr = 0.001\n",
        "MAX_EPOCH = 20"
      ],
      "execution_count": 26,
      "outputs": []
    },
    {
      "cell_type": "code",
      "metadata": {
        "execution": {
          "iopub.status.busy": "2021-09-09T09:11:02.491666Z",
          "iopub.execute_input": "2021-09-09T09:11:02.492181Z",
          "iopub.status.idle": "2021-09-09T09:11:02.511258Z",
          "shell.execute_reply.started": "2021-09-09T09:11:02.492149Z",
          "shell.execute_reply": "2021-09-09T09:11:02.510092Z"
        },
        "trusted": true,
        "id": "-6a5s3xj9Toe"
      },
      "source": [
        "# utility methods for models\n",
        "def get_train_test_val(input_width=1,\n",
        "                       label_width=1,\n",
        "                       shift=1,\n",
        "                        step=1,\n",
        "                       label_cols=[T]):\n",
        "    train_ds = TimeSeriesDataset(df=train_df,\n",
        "                        input_width=input_width,\n",
        "                       label_width=label_width,\n",
        "                       shift=shift,\n",
        "                        step=step,\n",
        "                       label_cols=[T])\n",
        "    \n",
        "    test_ds = TimeSeriesDataset(df=test_df,\n",
        "                        input_width=input_width,\n",
        "                       label_width=label_width,\n",
        "                       shift=shift,\n",
        "                        step=step,\n",
        "                       label_cols=[T])\n",
        "    val_ds = TimeSeriesDataset(df=val_df,\n",
        "                        input_width=input_width,\n",
        "                       label_width=label_width,\n",
        "                       shift=shift,\n",
        "                        step=step,\n",
        "                       label_cols=[T])\n",
        "    \n",
        "    \n",
        "    return train_ds, test_ds, val_ds\n",
        "\n",
        "\n",
        "def get_data(train_ds, valid_ds, bs=32, collate_fn=None):\n",
        "    return (\n",
        "        DataLoader(train_ds, batch_size=bs, shuffle=False, collate_fn=collate_fn, drop_last=True),\n",
        "        DataLoader(valid_ds, batch_size=bs * 2, collate_fn=collate_fn, drop_last=True),\n",
        "    )\n",
        "\n",
        "def collate_fn_custom(data):\n",
        "    \"\"\"\n",
        "       data: a list.\n",
        "            items of the list are the same format as what `Dataset` class's `__getitem__` returns\n",
        "    \"\"\"\n",
        "    # put all x in (batch, time, feature),  y in (batch, time, label)\n",
        "    inputs = torch.stack([d[0][0] for d in data], dim=0)\n",
        "    labels = torch.stack([d[1][0] for d in data], dim=0)\n",
        "    return inputs, labels\n",
        "    \n",
        "\n",
        "def custom_mse(predicted, target):\n",
        "    _loss = torch.mean((predicted - target)**2)\n",
        "    return _loss\n",
        "\n",
        "def fit(epochs, model, loss_func, opt, train_dl, valid_dl, verbose=False):\n",
        "    history = History(model)\n",
        "    \n",
        "    for epoch in range(epochs):\n",
        "        print(f\"[Epoch {epoch}/{epochs}]\\n\", \"-\"*20)\n",
        "        \n",
        "        train_losses = []\n",
        "        model.train()\n",
        "        \n",
        "        for batch, data in enumerate(train_dl):\n",
        "            xb, yb = data\n",
        "            \n",
        "            # gradients on each variable accumulate, so reset them to 0\n",
        "            opt.zero_grad()\n",
        "            outputs = model(xb)\n",
        "            loss = loss_func(outputs, yb)\n",
        "            loss.backward()\n",
        "            opt.step()\n",
        "            \n",
        "            if batch%100==0:\n",
        "                train_losses.append(loss.item())\n",
        "                if verbose:\n",
        "                    print(f\"batch {batch}/{len(train_dl)} - training loss {loss}\")\n",
        "        \n",
        "        # validate after each epoch\n",
        "        val_losses = validate(model, loss_func, valid_dl)\n",
        "        avg_val_loss = np.mean(val_losses)\n",
        "        avg_train_loss = np.mean(train_losses)\n",
        "        print(f\"\\n mean training loss {avg_train_loss}\\n\\r mean validation loss {avg_val_loss}\")\n",
        "        \n",
        "        history.train_loss.append(avg_train_loss)\n",
        "        history.val_loss.append(avg_val_loss)\n",
        "        \n",
        "    return history\n",
        "        \n",
        "\n",
        "def validate(model, loss_func, valid_dl):\n",
        "    losses = []\n",
        "    model.eval()\n",
        "    for batch, data in enumerate(valid_dl):\n",
        "        xb, yb = data\n",
        "\n",
        "        # gradients on each variable accumulate, so reset them to 0\n",
        "        outputs = model(xb)\n",
        "        loss = loss_func(outputs, yb)\n",
        "        \n",
        "        if batch % 100==0:\n",
        "            losses.append(loss.item())\n",
        "    return losses"
      ],
      "execution_count": 27,
      "outputs": []
    },
    {
      "cell_type": "markdown",
      "metadata": {
        "id": "hlOnFoB59Toe"
      },
      "source": [
        "# Single Step Models\n",
        "predicts single timestep"
      ]
    },
    {
      "cell_type": "code",
      "metadata": {
        "execution": {
          "iopub.status.busy": "2021-09-09T09:11:02.513338Z",
          "iopub.execute_input": "2021-09-09T09:11:02.513634Z",
          "iopub.status.idle": "2021-09-09T09:11:05.814621Z",
          "shell.execute_reply.started": "2021-09-09T09:11:02.513606Z",
          "shell.execute_reply": "2021-09-09T09:11:05.813511Z"
        },
        "trusted": true,
        "colab": {
          "base_uri": "https://localhost:8080/",
          "height": 0
        },
        "id": "SGU23-0o9Toe",
        "outputId": "dc3f6493-cbb4-4a54-add9-0bcd06d2ebfb"
      },
      "source": [
        "single_step_train = TimeSeriesDataset(df=train_df,\n",
        "                       input_width=1,\n",
        "                       label_width=1,\n",
        "                       shift=1,\n",
        "                        step=1,\n",
        "                       label_cols=[T])\n",
        "\n",
        "single_step_val = TimeSeriesDataset(df=val_df,\n",
        "                       input_width=1,\n",
        "                       label_width=1,\n",
        "                       shift=1,\n",
        "                        step=1,\n",
        "                       label_cols=[T])\n",
        "single_step_test = TimeSeriesDataset(df=test_df,\n",
        "                       input_width=1,\n",
        "                       label_width=1,\n",
        "                       shift=1,\n",
        "                        step=1,\n",
        "                       label_cols=[T])\n",
        "single_step_val"
      ],
      "execution_count": 28,
      "outputs": [
        {
          "output_type": "execute_result",
          "data": {
            "text/plain": [
              "Total window size: 2\n",
              "Input indices: [0]\n",
              "Label indices: [1]\n",
              "Label column name(s): ['T (degC)']"
            ]
          },
          "metadata": {},
          "execution_count": 28
        }
      ]
    },
    {
      "cell_type": "code",
      "metadata": {
        "execution": {
          "iopub.status.busy": "2021-09-09T09:11:05.815888Z",
          "iopub.execute_input": "2021-09-09T09:11:05.816200Z",
          "iopub.status.idle": "2021-09-09T09:11:05.822211Z",
          "shell.execute_reply.started": "2021-09-09T09:11:05.816163Z",
          "shell.execute_reply": "2021-09-09T09:11:05.821244Z"
        },
        "trusted": true,
        "colab": {
          "base_uri": "https://localhost:8080/",
          "height": 0
        },
        "id": "BD3rqXWP9Toe",
        "outputId": "f532f660-50a8-4179-dfa3-e7e338d95516"
      },
      "source": [
        "single_step_train.example[0][0].shape,single_step_train.example[0][1].shape,"
      ],
      "execution_count": 29,
      "outputs": [
        {
          "output_type": "execute_result",
          "data": {
            "text/plain": [
              "(torch.Size([1, 1, 19]), torch.Size([1, 1, 1]))"
            ]
          },
          "metadata": {},
          "execution_count": 29
        }
      ]
    },
    {
      "cell_type": "markdown",
      "metadata": {
        "id": "3OGj1oC49Tof"
      },
      "source": [
        "## Baseline Model\n",
        "predicts the current always"
      ]
    },
    {
      "cell_type": "code",
      "metadata": {
        "execution": {
          "iopub.status.busy": "2021-09-09T09:11:05.823326Z",
          "iopub.execute_input": "2021-09-09T09:11:05.823601Z",
          "iopub.status.idle": "2021-09-09T09:11:05.838647Z",
          "shell.execute_reply.started": "2021-09-09T09:11:05.823574Z",
          "shell.execute_reply": "2021-09-09T09:11:05.837899Z"
        },
        "trusted": true,
        "id": "JKwOM9Yr9Tof"
      },
      "source": [
        "class Baseline(nn.Module):\n",
        "    \"\"\"returns the same data\"\"\"\n",
        "    def __init__(self, label_index=None):\n",
        "        super().__init__()\n",
        "        self.label_index = label_index\n",
        "        \n",
        "    def forward(self, xb):\n",
        "        if self.label_index is None:\n",
        "            return xb\n",
        "        else:\n",
        "            return xb[:, self.label_index]"
      ],
      "execution_count": 30,
      "outputs": []
    },
    {
      "cell_type": "code",
      "metadata": {
        "execution": {
          "iopub.status.busy": "2021-09-09T09:11:05.840068Z",
          "iopub.execute_input": "2021-09-09T09:11:05.840684Z",
          "iopub.status.idle": "2021-09-09T09:11:06.073493Z",
          "shell.execute_reply.started": "2021-09-09T09:11:05.840640Z",
          "shell.execute_reply": "2021-09-09T09:11:06.072494Z"
        },
        "trusted": true,
        "id": "XTP-0fYt9Tof"
      },
      "source": [
        "baseline_model = Baseline(label_index=[single_step_train.col_indices[\n",
        "    single_step_train.label_cols[0]\n",
        "]])\n",
        "# opt = torch.optim.SGD(baseline_model.parameters(), lr=lr)\n",
        "opt = None\n",
        "loss_fn = nn.MSELoss()\n",
        "train_dl, valid_dl = get_data(single_step_train, single_step_val, bs=16, collate_fn=collate_fn_custom)\n",
        "\n",
        "# epochs, model, loss_func, opt, train_dl, valid_dl\n",
        "# fit(1, baseline_model, loss_fn, opt, train_dl)\n",
        "hist = validate(baseline_model, loss_fn, valid_dl)"
      ],
      "execution_count": 31,
      "outputs": []
    },
    {
      "cell_type": "code",
      "metadata": {
        "execution": {
          "iopub.status.busy": "2021-09-09T09:11:06.074686Z",
          "iopub.execute_input": "2021-09-09T09:11:06.074978Z",
          "iopub.status.idle": "2021-09-09T09:11:09.719429Z",
          "shell.execute_reply.started": "2021-09-09T09:11:06.074951Z",
          "shell.execute_reply": "2021-09-09T09:11:09.718404Z"
        },
        "trusted": true,
        "colab": {
          "base_uri": "https://localhost:8080/",
          "height": 0
        },
        "id": "5w6v60pO9Tof",
        "outputId": "a22956f3-d522-4ebd-9a58-a4217e1dc64c"
      },
      "source": [
        "wide_step_train, wide_step_test, wide_step_val = get_train_test_val(\n",
        "                        input_width=24,\n",
        "                       label_width=24,\n",
        "                       shift=1,\n",
        "                        step=1,\n",
        "                       label_cols=[T])\n",
        "wide_step_train"
      ],
      "execution_count": 32,
      "outputs": [
        {
          "output_type": "execute_result",
          "data": {
            "text/plain": [
              "Total window size: 25\n",
              "Input indices: [ 0  1  2  3  4  5  6  7  8  9 10 11 12 13 14 15 16 17 18 19 20 21 22 23]\n",
              "Label indices: [ 1  2  3  4  5  6  7  8  9 10 11 12 13 14 15 16 17 18 19 20 21 22 23 24]\n",
              "Label column name(s): ['T (degC)']"
            ]
          },
          "metadata": {},
          "execution_count": 32
        }
      ]
    },
    {
      "cell_type": "code",
      "metadata": {
        "execution": {
          "iopub.status.busy": "2021-09-09T09:11:09.720692Z",
          "iopub.execute_input": "2021-09-09T09:11:09.720997Z",
          "iopub.status.idle": "2021-09-09T09:11:10.189807Z",
          "shell.execute_reply.started": "2021-09-09T09:11:09.720968Z",
          "shell.execute_reply": "2021-09-09T09:11:10.188825Z"
        },
        "trusted": true,
        "colab": {
          "base_uri": "https://localhost:8080/",
          "height": 513
        },
        "id": "v51NRYQY9Tof",
        "outputId": "0727a5e4-68b6-467d-f048-fda4adc568b1"
      },
      "source": [
        "wide_step_train.plot()"
      ],
      "execution_count": 33,
      "outputs": [
        {
          "output_type": "stream",
          "name": "stdout",
          "text": [
            "None\n"
          ]
        },
        {
          "output_type": "display_data",
          "data": {
            "image/png": "[encoded data removed]",
            "text/plain": [
              "<Figure size 864x576 with 3 Axes>"
            ]
          },
          "metadata": {
            "needs_background": "light"
          }
        }
      ]
    },
    {
      "cell_type": "code",
      "metadata": {
        "execution": {
          "iopub.status.busy": "2021-09-09T09:11:10.191589Z",
          "iopub.execute_input": "2021-09-09T09:11:10.192016Z",
          "iopub.status.idle": "2021-09-09T09:11:10.404860Z",
          "shell.execute_reply.started": "2021-09-09T09:11:10.191971Z",
          "shell.execute_reply": "2021-09-09T09:11:10.404102Z"
        },
        "trusted": true,
        "id": "Dt97_Q4O9Tof"
      },
      "source": [
        "train_dl, valid_dl = get_data(wide_step_train, wide_step_val, bs=16, collate_fn=collate_fn_custom)\n",
        "\n",
        "# epochs, model, loss_func, opt, train_dl, valid_dl\n",
        "# fit(1, baseline_model, loss, opt, train_dl, valid_dl)\n",
        "_ = validate(baseline_model, loss_fn, valid_dl)"
      ],
      "execution_count": 34,
      "outputs": []
    },
    {
      "cell_type": "markdown",
      "metadata": {
        "id": "rKqeAEz69Tof"
      },
      "source": [
        "## Linear "
      ]
    },
    {
      "cell_type": "code",
      "metadata": {
        "execution": {
          "iopub.status.busy": "2021-09-09T09:11:10.406084Z",
          "iopub.execute_input": "2021-09-09T09:11:10.406670Z",
          "iopub.status.idle": "2021-09-09T09:11:10.413204Z",
          "shell.execute_reply.started": "2021-09-09T09:11:10.406629Z",
          "shell.execute_reply": "2021-09-09T09:11:10.412052Z"
        },
        "trusted": true,
        "id": "4XvAbFch9Tof"
      },
      "source": [
        "class LinearModel(nn.Module):\n",
        "    def __init__(self):\n",
        "        super().__init__()\n",
        "        # in 19 feats, out 1 label\n",
        "        self.linear = nn.Linear(19, 1).double()\n",
        "        \n",
        "    def forward(self, xb):\n",
        "        return self.linear(xb)"
      ],
      "execution_count": 35,
      "outputs": []
    },
    {
      "cell_type": "code",
      "metadata": {
        "execution": {
          "iopub.status.busy": "2021-09-09T09:11:10.414649Z",
          "iopub.execute_input": "2021-09-09T09:11:10.415140Z",
          "iopub.status.idle": "2021-09-09T09:11:38.077986Z",
          "shell.execute_reply.started": "2021-09-09T09:11:10.415091Z",
          "shell.execute_reply": "2021-09-09T09:11:38.076982Z"
        },
        "trusted": true,
        "colab": {
          "base_uri": "https://localhost:8080/",
          "height": 0
        },
        "id": "W5itR8RP9Tof",
        "outputId": "1b088f65-b429-4b9d-fdc8-cf9e6d30513a"
      },
      "source": [
        "linear_model = LinearModel()\n",
        "linear_model.to(DEVICE)\n",
        "opt = torch.optim.Adam(linear_model.parameters(), lr=lr)\n",
        "train_dl, valid_dl = get_data(single_step_train, single_step_val, bs=32)\n",
        "\n",
        "# epochs, model, loss_func, opt, train_dl, valid_dl\n",
        "history = fit(MAX_EPOCH, linear_model, loss_fn, opt, train_dl, valid_dl, verbose=False)"
      ],
      "execution_count": 36,
      "outputs": [
        {
          "output_type": "stream",
          "name": "stdout",
          "text": [
            "[Epoch 0/20]\n",
            " --------------------\n",
            "\n",
            " mean training loss 0.5159292276799479\n",
            " mean validation loss 0.03701939139331165\n",
            "[Epoch 1/20]\n",
            " --------------------\n",
            "\n",
            " mean training loss 0.012029017439127813\n",
            " mean validation loss 0.026457615688698977\n",
            "[Epoch 2/20]\n",
            " --------------------\n",
            "\n",
            " mean training loss 0.009220818134759601\n",
            " mean validation loss 0.01598025753037433\n",
            "[Epoch 3/20]\n",
            " --------------------\n",
            "\n",
            " mean training loss 0.007402601249374257\n",
            " mean validation loss 0.01109586595439486\n",
            "[Epoch 4/20]\n",
            " --------------------\n",
            "\n",
            " mean training loss 0.006790635992730117\n",
            " mean validation loss 0.009568198596674092\n",
            "[Epoch 5/20]\n",
            " --------------------\n",
            "\n",
            " mean training loss 0.006495553228378565\n",
            " mean validation loss 0.009097131478138685\n",
            "[Epoch 6/20]\n",
            " --------------------\n",
            "\n",
            " mean training loss 0.006380998123666296\n",
            " mean validation loss 0.008991925773132662\n",
            "[Epoch 7/20]\n",
            " --------------------\n",
            "\n",
            " mean training loss 0.006353621743998496\n",
            " mean validation loss 0.008964919697991647\n",
            "[Epoch 8/20]\n",
            " --------------------\n",
            "\n",
            " mean training loss 0.006344357549863807\n",
            " mean validation loss 0.0089569819437344\n",
            "[Epoch 9/20]\n",
            " --------------------\n",
            "\n",
            " mean training loss 0.0063392373362644305\n",
            " mean validation loss 0.008956446988904708\n",
            "[Epoch 10/20]\n",
            " --------------------\n",
            "\n",
            " mean training loss 0.00633582593167378\n",
            " mean validation loss 0.008959590977921573\n",
            "[Epoch 11/20]\n",
            " --------------------\n",
            "\n",
            " mean training loss 0.00633339027969568\n",
            " mean validation loss 0.008964958967030522\n",
            "[Epoch 12/20]\n",
            " --------------------\n",
            "\n",
            " mean training loss 0.006331631026765989\n",
            " mean validation loss 0.008971850163629936\n",
            "[Epoch 13/20]\n",
            " --------------------\n",
            "\n",
            " mean training loss 0.006330390301861963\n",
            " mean validation loss 0.008979835820830744\n",
            "[Epoch 14/20]\n",
            " --------------------\n",
            "\n",
            " mean training loss 0.006329564259774751\n",
            " mean validation loss 0.008988603845724485\n",
            "[Epoch 15/20]\n",
            " --------------------\n",
            "\n",
            " mean training loss 0.006329074366158857\n",
            " mean validation loss 0.008997907194906842\n",
            "[Epoch 16/20]\n",
            " --------------------\n",
            "\n",
            " mean training loss 0.006328857091998767\n",
            " mean validation loss 0.009007544646345978\n",
            "[Epoch 17/20]\n",
            " --------------------\n",
            "\n",
            " mean training loss 0.006328859634279823\n",
            " mean validation loss 0.009017351645454174\n",
            "[Epoch 18/20]\n",
            " --------------------\n",
            "\n",
            " mean training loss 0.0063290377128535635\n",
            " mean validation loss 0.009027194426994027\n",
            "[Epoch 19/20]\n",
            " --------------------\n",
            "\n",
            " mean training loss 0.0063293541501265645\n",
            " mean validation loss 0.009036965393724252\n"
          ]
        }
      ]
    },
    {
      "cell_type": "code",
      "metadata": {
        "execution": {
          "iopub.status.busy": "2021-09-09T09:11:38.079314Z",
          "iopub.execute_input": "2021-09-09T09:11:38.079621Z",
          "iopub.status.idle": "2021-09-09T09:11:38.256842Z",
          "shell.execute_reply.started": "2021-09-09T09:11:38.079591Z",
          "shell.execute_reply": "2021-09-09T09:11:38.255830Z"
        },
        "trusted": true,
        "colab": {
          "base_uri": "https://localhost:8080/",
          "height": 0
        },
        "id": "pPDfYwuj9Tog",
        "outputId": "a06509e8-5fbc-4f9f-c2d8-1a814b2a8c87"
      },
      "source": [
        "history.plot()"
      ],
      "execution_count": 37,
      "outputs": [
        {
          "output_type": "display_data",
          "data": {
            "image/png": "[encoded data removed]",
            "text/plain": [
              "<Figure size 720x360 with 1 Axes>"
            ]
          },
          "metadata": {
            "needs_background": "light"
          }
        }
      ]
    },
    {
      "cell_type": "code",
      "metadata": {
        "execution": {
          "iopub.status.busy": "2021-09-09T09:11:38.257967Z",
          "iopub.execute_input": "2021-09-09T09:11:38.258228Z",
          "iopub.status.idle": "2021-09-09T09:12:09.342500Z",
          "shell.execute_reply.started": "2021-09-09T09:11:38.258202Z",
          "shell.execute_reply": "2021-09-09T09:12:09.341473Z"
        },
        "trusted": true,
        "colab": {
          "base_uri": "https://localhost:8080/",
          "height": 0
        },
        "id": "w0XkGOWj9Tog",
        "outputId": "229aa581-5121-44bc-94eb-526bc5326af4"
      },
      "source": [
        "linear_model = LinearModel()\n",
        "linear_model.to(DEVICE)\n",
        "opt = torch.optim.Adam(linear_model.parameters(), lr=lr)\n",
        "train_dl, valid_dl = get_data(wide_step_train, wide_step_val, bs=32)\n",
        "\n",
        "# epochs, model, loss_func, opt, train_dl, valid_dl\n",
        "history = fit(MAX_EPOCH, linear_model, loss_fn, opt, train_dl, valid_dl)"
      ],
      "execution_count": 38,
      "outputs": [
        {
          "output_type": "stream",
          "name": "stdout",
          "text": [
            "[Epoch 0/20]\n",
            " --------------------\n",
            "\n",
            " mean training loss 0.5194619968120552\n",
            " mean validation loss 0.0405625155248196\n",
            "[Epoch 1/20]\n",
            " --------------------\n",
            "\n",
            " mean training loss 0.01232353562831172\n",
            " mean validation loss 0.030778344702949295\n",
            "[Epoch 2/20]\n",
            " --------------------\n",
            "\n",
            " mean training loss 0.009756934936389771\n",
            " mean validation loss 0.01807848413829283\n",
            "[Epoch 3/20]\n",
            " --------------------\n",
            "\n",
            " mean training loss 0.007533766204165486\n",
            " mean validation loss 0.01210487378545153\n",
            "[Epoch 4/20]\n",
            " --------------------\n",
            "\n",
            " mean training loss 0.006772962290364188\n",
            " mean validation loss 0.010281919432824404\n",
            "[Epoch 5/20]\n",
            " --------------------\n",
            "\n",
            " mean training loss 0.006491863875911896\n",
            " mean validation loss 0.0097277825838276\n",
            "[Epoch 6/20]\n",
            " --------------------\n",
            "\n",
            " mean training loss 0.00640495200848697\n",
            " mean validation loss 0.009653111110374264\n",
            "[Epoch 7/20]\n",
            " --------------------\n",
            "\n",
            " mean training loss 0.006400471229721337\n",
            " mean validation loss 0.009653358357047928\n",
            "[Epoch 8/20]\n",
            " --------------------\n",
            "\n",
            " mean training loss 0.006401749355756003\n",
            " mean validation loss 0.009657300290418903\n",
            "[Epoch 9/20]\n",
            " --------------------\n",
            "\n",
            " mean training loss 0.006402236629284007\n",
            " mean validation loss 0.009662628825385563\n",
            "[Epoch 10/20]\n",
            " --------------------\n",
            "\n",
            " mean training loss 0.006402936861746689\n",
            " mean validation loss 0.009668379864475102\n",
            "[Epoch 11/20]\n",
            " --------------------\n",
            "\n",
            " mean training loss 0.006403813138430846\n",
            " mean validation loss 0.009674092925982635\n",
            "[Epoch 12/20]\n",
            " --------------------\n",
            "\n",
            " mean training loss 0.006404770043052741\n",
            " mean validation loss 0.009679597832454034\n",
            "[Epoch 13/20]\n",
            " --------------------\n",
            "\n",
            " mean training loss 0.006405753306564269\n",
            " mean validation loss 0.00968483212732908\n",
            "[Epoch 14/20]\n",
            " --------------------\n",
            "\n",
            " mean training loss 0.006406732745039143\n",
            " mean validation loss 0.009689771939771429\n",
            "[Epoch 15/20]\n",
            " --------------------\n",
            "\n",
            " mean training loss 0.006407690328660819\n",
            " mean validation loss 0.0096944091762106\n",
            "[Epoch 16/20]\n",
            " --------------------\n",
            "\n",
            " mean training loss 0.006408614818477996\n",
            " mean validation loss 0.009698743667998984\n",
            "[Epoch 17/20]\n",
            " --------------------\n",
            "\n",
            " mean training loss 0.006409499204702936\n",
            " mean validation loss 0.009702780005692286\n",
            "[Epoch 18/20]\n",
            " --------------------\n",
            "\n",
            " mean training loss 0.0064103392987710514\n",
            " mean validation loss 0.009706525939439567\n",
            "[Epoch 19/20]\n",
            " --------------------\n",
            "\n",
            " mean training loss 0.00641113286398094\n",
            " mean validation loss 0.009709991388253646\n"
          ]
        }
      ]
    },
    {
      "cell_type": "code",
      "metadata": {
        "execution": {
          "iopub.status.busy": "2021-09-09T09:12:09.343908Z",
          "iopub.execute_input": "2021-09-09T09:12:09.344256Z",
          "iopub.status.idle": "2021-09-09T09:12:09.633625Z",
          "shell.execute_reply.started": "2021-09-09T09:12:09.344222Z",
          "shell.execute_reply": "2021-09-09T09:12:09.632472Z"
        },
        "trusted": true,
        "colab": {
          "base_uri": "https://localhost:8080/",
          "height": 0
        },
        "id": "2FRfXTk29Tog",
        "outputId": "67531583-b9e9-4e1d-c2f0-77a86e0957b9"
      },
      "source": [
        "history.plot()"
      ],
      "execution_count": 39,
      "outputs": [
        {
          "output_type": "display_data",
          "data": {
            "image/png": "[encoded data removed]",
            "text/plain": [
              "<Figure size 720x360 with 1 Axes>"
            ]
          },
          "metadata": {
            "needs_background": "light"
          }
        }
      ]
    },
    {
      "cell_type": "markdown",
      "metadata": {
        "id": "aODfcjYu9Tog"
      },
      "source": [
        "## Dense\n",
        "stacking several layers of `Linear` layer with activation"
      ]
    },
    {
      "cell_type": "code",
      "metadata": {
        "execution": {
          "iopub.status.busy": "2021-09-09T09:12:09.634877Z",
          "iopub.execute_input": "2021-09-09T09:12:09.635190Z",
          "iopub.status.idle": "2021-09-09T09:12:09.642675Z",
          "shell.execute_reply.started": "2021-09-09T09:12:09.635162Z",
          "shell.execute_reply": "2021-09-09T09:12:09.642003Z"
        },
        "trusted": true,
        "id": "9yTJuEpx9Tog"
      },
      "source": [
        "class DenseModel(nn.Module):\n",
        "    def __init__(self):\n",
        "        super().__init__()\n",
        "        self.linear1 = nn.Linear(19, 64).double()\n",
        "        self.linear2 = nn.Linear(64,64).double()\n",
        "        self.linear3 = nn.Linear(64,1).double()\n",
        "        \n",
        "        self.linear = nn.Linear(19,1).double()\n",
        "        self.relu = nn.ReLU()\n",
        "        \n",
        "    def forward(self, x):\n",
        "        x = self.linear1(x)\n",
        "        x = self.relu(x)\n",
        "        x = self.linear2(x)\n",
        "        x = self.relu(x)\n",
        "        x = self.linear3(x)\n",
        "        \n",
        "        return x"
      ],
      "execution_count": 40,
      "outputs": []
    },
    {
      "cell_type": "code",
      "metadata": {
        "execution": {
          "iopub.status.busy": "2021-09-09T09:12:09.643922Z",
          "iopub.execute_input": "2021-09-09T09:12:09.644258Z",
          "iopub.status.idle": "2021-09-09T09:12:40.676983Z",
          "shell.execute_reply.started": "2021-09-09T09:12:09.644194Z",
          "shell.execute_reply": "2021-09-09T09:12:40.675928Z"
        },
        "trusted": true,
        "colab": {
          "base_uri": "https://localhost:8080/",
          "height": 1000
        },
        "id": "d2rq6idt9Tog",
        "outputId": "20e2be6b-1974-4337-dba6-1ecd3f1cbcc0"
      },
      "source": [
        "dense_model = DenseModel()\n",
        "dense_model.to(DEVICE)\n",
        "opt = torch.optim.Adam(dense_model.parameters(), lr=0.001)\n",
        "train_dl, valid_dl = get_data(train_ds=wide_step_train, valid_ds=wide_step_val, bs=64)\n",
        "loss_fn = nn.MSELoss()\n",
        "\n",
        "# epochs, model, loss_func, opt, train_dl, valid_dl\n",
        "history = fit(10, dense_model, loss_fn, opt, train_dl, valid_dl)\n",
        "history.plot()"
      ],
      "execution_count": 41,
      "outputs": [
        {
          "output_type": "stream",
          "name": "stdout",
          "text": [
            "[Epoch 0/10]\n",
            " --------------------\n",
            "\n",
            " mean training loss 0.32519695152872014\n",
            " mean validation loss 0.011957121032143362\n",
            "[Epoch 1/10]\n",
            " --------------------\n",
            "\n",
            " mean training loss 0.00900341854439183\n",
            " mean validation loss 0.012478961289951658\n",
            "[Epoch 2/10]\n",
            " --------------------\n",
            "\n",
            " mean training loss 0.009396959783141166\n",
            " mean validation loss 0.010453778067941285\n",
            "[Epoch 3/10]\n",
            " --------------------\n",
            "\n",
            " mean training loss 0.007873566240798229\n",
            " mean validation loss 0.010226198912454233\n",
            "[Epoch 4/10]\n",
            " --------------------\n",
            "\n",
            " mean training loss 0.0075290276240833716\n",
            " mean validation loss 0.009998626531457527\n",
            "[Epoch 5/10]\n",
            " --------------------\n",
            "\n",
            " mean training loss 0.007374904349890262\n",
            " mean validation loss 0.008233782435005072\n",
            "[Epoch 6/10]\n",
            " --------------------\n",
            "\n",
            " mean training loss 0.007441215232006715\n",
            " mean validation loss 0.008098906732269151\n",
            "[Epoch 7/10]\n",
            " --------------------\n",
            "\n",
            " mean training loss 0.007176327203410089\n",
            " mean validation loss 0.007565435200200728\n",
            "[Epoch 8/10]\n",
            " --------------------\n",
            "\n",
            " mean training loss 0.006855897953337634\n",
            " mean validation loss 0.00772365331474043\n",
            "[Epoch 9/10]\n",
            " --------------------\n",
            "\n",
            " mean training loss 0.006907781789136767\n",
            " mean validation loss 0.007497537573423037\n"
          ]
        },
        {
          "output_type": "display_data",
          "data": {
            "image/png": "[encoded data removed]",
            "text/plain": [
              "<Figure size 720x360 with 1 Axes>"
            ]
          },
          "metadata": {
            "needs_background": "light"
          }
        }
      ]
    },
    {
      "cell_type": "code",
      "metadata": {
        "execution": {
          "iopub.status.busy": "2021-09-09T09:12:40.678222Z",
          "iopub.execute_input": "2021-09-09T09:12:40.678522Z",
          "iopub.status.idle": "2021-09-09T09:12:41.183129Z",
          "shell.execute_reply.started": "2021-09-09T09:12:40.678494Z",
          "shell.execute_reply": "2021-09-09T09:12:41.182054Z"
        },
        "trusted": true,
        "colab": {
          "base_uri": "https://localhost:8080/",
          "height": 614
        },
        "id": "kgm3q3DA9Tog",
        "outputId": "86e45279-6242-494c-f5de-5f2b0290c6b9"
      },
      "source": [
        "wide_step_train.plot(dense_model)"
      ],
      "execution_count": 42,
      "outputs": [
        {
          "output_type": "stream",
          "name": "stdout",
          "text": [
            "DenseModel(\n",
            "  (linear1): Linear(in_features=19, out_features=64, bias=True)\n",
            "  (linear2): Linear(in_features=64, out_features=64, bias=True)\n",
            "  (linear3): Linear(in_features=64, out_features=1, bias=True)\n",
            "  (linear): Linear(in_features=19, out_features=1, bias=True)\n",
            "  (relu): ReLU()\n",
            ")\n"
          ]
        },
        {
          "output_type": "display_data",
          "data": {
            "image/png": "[encoded data removed]",
            "text/plain": [
              "<Figure size 864x576 with 3 Axes>"
            ]
          },
          "metadata": {
            "needs_background": "light"
          }
        }
      ]
    },
    {
      "cell_type": "markdown",
      "metadata": {
        "id": "43eWQ5fY9Tog"
      },
      "source": [
        "## Multi-step Dense\n",
        "\n",
        "![image.png](attachment:8953f563-0695-4738-88e7-395e7816ad82.png)![image.png](attachment:195a5f8d-7ddb-4078-9f4c-5f276d46b30a.png)"
      ]
    },
    {
      "cell_type": "code",
      "metadata": {
        "execution": {
          "iopub.status.busy": "2021-09-09T09:12:41.184553Z",
          "iopub.execute_input": "2021-09-09T09:12:41.185149Z",
          "iopub.status.idle": "2021-09-09T09:12:43.954755Z",
          "shell.execute_reply.started": "2021-09-09T09:12:41.185105Z",
          "shell.execute_reply": "2021-09-09T09:12:43.953676Z"
        },
        "trusted": true,
        "colab": {
          "base_uri": "https://localhost:8080/",
          "height": 0
        },
        "id": "ODF8gvC69Toh",
        "outputId": "bbd9d25b-c744-435d-b10a-ec9026e317fb"
      },
      "source": [
        "CONV_WIDTH = 3\n",
        "conv_step_train = TimeSeriesDataset(df=train_df,\n",
        "                                input_width=CONV_WIDTH,\n",
        "                               label_width=1,\n",
        "                               shift=1,\n",
        "                               step=1,\n",
        "                               label_cols=[T])\n",
        "\n",
        "conv_step_val = TimeSeriesDataset(df=val_df,\n",
        "                                input_width=CONV_WIDTH,\n",
        "                               label_width=1,\n",
        "                               shift=1,\n",
        "                               step=1,\n",
        "                               label_cols=[T])\n",
        "\n",
        "\n",
        "conv_step_train"
      ],
      "execution_count": 43,
      "outputs": [
        {
          "output_type": "execute_result",
          "data": {
            "text/plain": [
              "Total window size: 4\n",
              "Input indices: [0 1 2]\n",
              "Label indices: [3]\n",
              "Label column name(s): ['T (degC)']"
            ]
          },
          "metadata": {},
          "execution_count": 43
        }
      ]
    },
    {
      "cell_type": "code",
      "metadata": {
        "execution": {
          "iopub.status.busy": "2021-09-09T09:12:43.955959Z",
          "iopub.execute_input": "2021-09-09T09:12:43.956265Z",
          "iopub.status.idle": "2021-09-09T09:12:44.473158Z",
          "shell.execute_reply.started": "2021-09-09T09:12:43.956228Z",
          "shell.execute_reply": "2021-09-09T09:12:44.472178Z"
        },
        "trusted": true,
        "colab": {
          "base_uri": "https://localhost:8080/",
          "height": 0
        },
        "id": "GjotGg6v9Toh",
        "outputId": "ac429e07-f432-459a-854b-58074aa87b7a"
      },
      "source": [
        "conv_step_train.plot()\n",
        "conv_step_train.example[0][0].shape, conv_step_train.example[0][1].shape"
      ],
      "execution_count": 44,
      "outputs": [
        {
          "output_type": "stream",
          "name": "stdout",
          "text": [
            "None\n"
          ]
        },
        {
          "output_type": "execute_result",
          "data": {
            "text/plain": [
              "(torch.Size([1, 3, 19]), torch.Size([1, 1, 1]))"
            ]
          },
          "metadata": {},
          "execution_count": 44
        },
        {
          "output_type": "display_data",
          "data": {
            "image/png": "[encoded data removed]",
            "text/plain": [
              "<Figure size 864x576 with 3 Axes>"
            ]
          },
          "metadata": {
            "needs_background": "light"
          }
        }
      ]
    },
    {
      "cell_type": "code",
      "metadata": {
        "execution": {
          "iopub.status.busy": "2021-09-09T09:12:44.474267Z",
          "iopub.execute_input": "2021-09-09T09:12:44.474560Z",
          "iopub.status.idle": "2021-09-09T09:12:44.483824Z",
          "shell.execute_reply.started": "2021-09-09T09:12:44.474527Z",
          "shell.execute_reply": "2021-09-09T09:12:44.482769Z"
        },
        "trusted": true,
        "id": "uYDvFXFp9Toh"
      },
      "source": [
        "class MultiStepDense(nn.Module):\n",
        "    def __init__(self, n_features=19, n_timesteps=3):\n",
        "        super().__init__()\n",
        "        self.relu = nn.ReLU()\n",
        "        # shape: (time, features) => (time * features, )\n",
        "        self.flatten = nn.Flatten(start_dim=1, end_dim=-1).double()\n",
        "        \n",
        "        self.linear1 = nn.Linear(n_features * n_timesteps, 32).double()\n",
        "        self.linear2 = nn.Linear(32, 32).double()\n",
        "        self.linear3 = nn.Linear(32, 1).double()\n",
        "        \n",
        "        # shape: (label, ) => (1, label)\n",
        "        self.unflatten = nn.Unflatten(1, (1,1))\n",
        "        \n",
        "    def forward(self, x):\n",
        "#         print(x.shape)\n",
        "        x = self.flatten(x)\n",
        "#         print(x.shape)\n",
        "        x = self.linear1(x)\n",
        "        x = self.relu(x)\n",
        "#         print(x.shape)\n",
        "        x = self.linear2(x)\n",
        "        x = self.relu(x)\n",
        "#         print(x.shape)\n",
        "        x = self.linear3(x)\n",
        "#         print(x.shape)\n",
        "        x = self.unflatten(x)\n",
        "#         print(x.shape)\n",
        "        return x"
      ],
      "execution_count": 45,
      "outputs": []
    },
    {
      "cell_type": "code",
      "metadata": {
        "execution": {
          "iopub.status.busy": "2021-09-09T09:12:44.485369Z",
          "iopub.execute_input": "2021-09-09T09:12:44.485799Z",
          "iopub.status.idle": "2021-09-09T09:12:44.504975Z",
          "shell.execute_reply.started": "2021-09-09T09:12:44.485766Z",
          "shell.execute_reply": "2021-09-09T09:12:44.503929Z"
        },
        "trusted": true,
        "colab": {
          "base_uri": "https://localhost:8080/",
          "height": 0
        },
        "id": "LzSwiRrj9Toh",
        "outputId": "3e548a61-67ec-4126-c79d-d3a2b64c07c4"
      },
      "source": [
        "multi_step_dense = MultiStepDense(n_features=19, n_timesteps=3)\n",
        "print(\"input shape: \", conv_step_train.example[0][0].shape)\n",
        "print(\"output shape: \", multi_step_dense(conv_step_train.example[0][0]).shape)"
      ],
      "execution_count": 46,
      "outputs": [
        {
          "output_type": "stream",
          "name": "stdout",
          "text": [
            "input shape:  torch.Size([1, 3, 19])\n",
            "output shape:  torch.Size([1, 1, 1])\n"
          ]
        }
      ]
    },
    {
      "cell_type": "code",
      "metadata": {
        "execution": {
          "iopub.status.busy": "2021-09-09T09:12:44.506546Z",
          "iopub.execute_input": "2021-09-09T09:12:44.506850Z",
          "iopub.status.idle": "2021-09-09T09:13:10.777500Z",
          "shell.execute_reply.started": "2021-09-09T09:12:44.506819Z",
          "shell.execute_reply": "2021-09-09T09:13:10.776272Z"
        },
        "trusted": true,
        "colab": {
          "base_uri": "https://localhost:8080/",
          "height": 0
        },
        "id": "9RPQgAb99Toh",
        "outputId": "9aa6689f-8b69-4184-c22d-854405bda10a"
      },
      "source": [
        "multi_step_dense = MultiStepDense(19, 3)\n",
        "multi_step_dense.to(DEVICE)\n",
        "opt = torch.optim.Adam(multi_step_dense.parameters(), lr=0.001)\n",
        "train_dl, valid_dl = get_data(train_ds=conv_step_train, valid_ds=conv_step_val, bs=32)\n",
        "loss_fn = nn.MSELoss()\n",
        "\n",
        "# epochs, model, loss_func, opt, train_dl, valid_dl\n",
        "history = fit(10, multi_step_dense, loss_fn, opt, train_dl, valid_dl)\n",
        "history.plot()"
      ],
      "execution_count": 47,
      "outputs": [
        {
          "output_type": "stream",
          "name": "stdout",
          "text": [
            "[Epoch 0/10]\n",
            " --------------------\n",
            "\n",
            " mean training loss 0.17008252396510826\n",
            " mean validation loss 0.01898714982698493\n",
            "[Epoch 1/10]\n",
            " --------------------\n",
            "\n",
            " mean training loss 0.008762286208673331\n",
            " mean validation loss 0.009998123407060147\n",
            "[Epoch 2/10]\n",
            " --------------------\n",
            "\n",
            " mean training loss 0.007023711284331753\n",
            " mean validation loss 0.008148285924927917\n",
            "[Epoch 3/10]\n",
            " --------------------\n",
            "\n",
            " mean training loss 0.0067513433602931485\n",
            " mean validation loss 0.008082144209943269\n",
            "[Epoch 4/10]\n",
            " --------------------\n",
            "\n",
            " mean training loss 0.005885565161110188\n",
            " mean validation loss 0.007871016415464038\n",
            "[Epoch 5/10]\n",
            " --------------------\n",
            "\n",
            " mean training loss 0.005892031634006556\n",
            " mean validation loss 0.0077510608061958156\n",
            "[Epoch 6/10]\n",
            " --------------------\n",
            "\n",
            " mean training loss 0.0056631602495353685\n",
            " mean validation loss 0.00795553318151583\n",
            "[Epoch 7/10]\n",
            " --------------------\n",
            "\n",
            " mean training loss 0.005364139839433173\n",
            " mean validation loss 0.007660501705278047\n",
            "[Epoch 8/10]\n",
            " --------------------\n",
            "\n",
            " mean training loss 0.005307987571413977\n",
            " mean validation loss 0.007991348717089343\n",
            "[Epoch 9/10]\n",
            " --------------------\n",
            "\n",
            " mean training loss 0.00528274873381415\n",
            " mean validation loss 0.008099279397226542\n"
          ]
        },
        {
          "output_type": "display_data",
          "data": {
            "image/png": "[encoded data removed]",
            "text/plain": [
              "<Figure size 720x360 with 1 Axes>"
            ]
          },
          "metadata": {
            "needs_background": "light"
          }
        }
      ]
    },
    {
      "cell_type": "code",
      "metadata": {
        "execution": {
          "iopub.status.busy": "2021-09-09T09:13:10.779158Z",
          "iopub.execute_input": "2021-09-09T09:13:10.779757Z",
          "iopub.status.idle": "2021-09-09T09:13:11.428072Z",
          "shell.execute_reply.started": "2021-09-09T09:13:10.779709Z",
          "shell.execute_reply": "2021-09-09T09:13:11.426901Z"
        },
        "trusted": true,
        "colab": {
          "base_uri": "https://localhost:8080/",
          "height": 0
        },
        "id": "IQZ08b7c9Toh",
        "outputId": "8e96613a-d862-4c37-9a3a-b9e19a9794fb"
      },
      "source": [
        "conv_step_train.plot(multi_step_dense)"
      ],
      "execution_count": 48,
      "outputs": [
        {
          "output_type": "stream",
          "name": "stdout",
          "text": [
            "MultiStepDense(\n",
            "  (relu): ReLU()\n",
            "  (flatten): Flatten(start_dim=1, end_dim=-1)\n",
            "  (linear1): Linear(in_features=57, out_features=32, bias=True)\n",
            "  (linear2): Linear(in_features=32, out_features=32, bias=True)\n",
            "  (linear3): Linear(in_features=32, out_features=1, bias=True)\n",
            "  (unflatten): Unflatten(dim=1, unflattened_size=(1, 1))\n",
            ")\n"
          ]
        },
        {
          "output_type": "display_data",
          "data": {
            "image/png": "[encoded data removed]",
            "text/plain": [
              "<Figure size 864x576 with 3 Axes>"
            ]
          },
          "metadata": {
            "needs_background": "light"
          }
        }
      ]
    },
    {
      "cell_type": "markdown",
      "metadata": {
        "id": "o8brc-To9Toh"
      },
      "source": [
        "# Recurrent Neural Networks\n",
        "if `return_sequences=False` means model will only return output from last timestep, and `return_sequences=True` means model will return output for all timesteps. The later makes any model a multistep model"
      ]
    },
    {
      "cell_type": "code",
      "metadata": {
        "execution": {
          "iopub.status.busy": "2021-09-09T09:13:11.429570Z",
          "iopub.execute_input": "2021-09-09T09:13:11.430154Z",
          "iopub.status.idle": "2021-09-09T09:13:11.437573Z",
          "shell.execute_reply.started": "2021-09-09T09:13:11.430107Z",
          "shell.execute_reply": "2021-09-09T09:13:11.436463Z"
        },
        "trusted": true,
        "colab": {
          "base_uri": "https://localhost:8080/",
          "height": 0
        },
        "id": "2FFqEOtr9Toh",
        "outputId": "2713c50e-8e45-46c9-e601-82d65d64ea00"
      },
      "source": [
        "print('input shape', wide_step_train.example[0][0].shape)\n",
        "print('output shape', wide_step_train.example[0][1].shape)"
      ],
      "execution_count": 49,
      "outputs": [
        {
          "output_type": "stream",
          "name": "stdout",
          "text": [
            "input shape torch.Size([1, 24, 19])\n",
            "output shape torch.Size([1, 24, 1])\n"
          ]
        }
      ]
    },
    {
      "cell_type": "code",
      "metadata": {
        "execution": {
          "iopub.status.busy": "2021-09-09T09:13:11.438780Z",
          "iopub.execute_input": "2021-09-09T09:13:11.439096Z",
          "iopub.status.idle": "2021-09-09T09:13:11.449341Z",
          "shell.execute_reply.started": "2021-09-09T09:13:11.439066Z",
          "shell.execute_reply": "2021-09-09T09:13:11.448305Z"
        },
        "trusted": true,
        "id": "MhO8EhjY9Toi"
      },
      "source": [
        "class LstmModel(nn.Module):\n",
        "    def __init__(self):\n",
        "        super().__init__()\n",
        "        # (batch, time, featres) => (batch, time, lstm_units)\n",
        "        self.lstm = nn.LSTM(input_size=19,\n",
        "                            hidden_size=32).double()\n",
        "        # (batch, time, lstm_units) => (batch, time, features)\n",
        "        self.lin = nn.Linear(32, 1).double()\n",
        "        \n",
        "    def forward(self, x):\n",
        "        x, (h, c) = self.lstm(x)\n",
        "        x = self.lin(x)\n",
        "        \n",
        "        return x"
      ],
      "execution_count": 50,
      "outputs": []
    },
    {
      "cell_type": "code",
      "metadata": {
        "execution": {
          "iopub.status.busy": "2021-09-09T09:13:11.450767Z",
          "iopub.execute_input": "2021-09-09T09:13:11.451174Z",
          "iopub.status.idle": "2021-09-09T09:16:49.732477Z",
          "shell.execute_reply.started": "2021-09-09T09:13:11.451135Z",
          "shell.execute_reply": "2021-09-09T09:16:49.731475Z"
        },
        "trusted": true,
        "colab": {
          "base_uri": "https://localhost:8080/",
          "height": 1000
        },
        "id": "qOLO3xJ29Toi",
        "outputId": "0eeb4fd5-571a-42da-f3d4-3a21aa22f716"
      },
      "source": [
        "lstm_model = LstmModel()\n",
        "lstm_model.to(DEVICE)\n",
        "opt = torch.optim.Adam(lstm_model.parameters(), lr=0.001)\n",
        "train_dl, valid_dl = get_data(train_ds=wide_step_train, valid_ds=wide_step_val, bs=32)\n",
        "loss_fn = nn.MSELoss()\n",
        "\n",
        "# epochs, model, loss_func, opt, train_dl, valid_dl\n",
        "history = fit(10, lstm_model, loss_fn, opt, train_dl, valid_dl)\n",
        "history.plot()"
      ],
      "execution_count": 51,
      "outputs": [
        {
          "output_type": "stream",
          "name": "stdout",
          "text": [
            "[Epoch 0/10]\n",
            " --------------------\n",
            "\n",
            " mean training loss 0.22995620879697343\n",
            " mean validation loss 0.019741969115899104\n",
            "[Epoch 1/10]\n",
            " --------------------\n",
            "\n",
            " mean training loss 0.006246761689275335\n",
            " mean validation loss 0.011903325782775143\n",
            "[Epoch 2/10]\n",
            " --------------------\n",
            "\n",
            " mean training loss 0.005309384201844067\n",
            " mean validation loss 0.00970883903048038\n",
            "[Epoch 3/10]\n",
            " --------------------\n",
            "\n",
            " mean training loss 0.005288035726071125\n",
            " mean validation loss 0.009593406358837537\n",
            "[Epoch 4/10]\n",
            " --------------------\n",
            "\n",
            " mean training loss 0.005062894156991421\n",
            " mean validation loss 0.009437718670360732\n",
            "[Epoch 5/10]\n",
            " --------------------\n",
            "\n",
            " mean training loss 0.00486018179378073\n",
            " mean validation loss 0.009556825172357043\n",
            "[Epoch 6/10]\n",
            " --------------------\n",
            "\n",
            " mean training loss 0.004787017068639974\n",
            " mean validation loss 0.009730720213785628\n",
            "[Epoch 7/10]\n",
            " --------------------\n",
            "\n",
            " mean training loss 0.004719475289663587\n",
            " mean validation loss 0.00989820679438092\n",
            "[Epoch 8/10]\n",
            " --------------------\n",
            "\n",
            " mean training loss 0.004672579593065201\n",
            " mean validation loss 0.0100020178295824\n",
            "[Epoch 9/10]\n",
            " --------------------\n",
            "\n",
            " mean training loss 0.0046085835216122095\n",
            " mean validation loss 0.009925623840008562\n"
          ]
        },
        {
          "output_type": "display_data",
          "data": {
            "image/png": "[encoded data removed]",
            "text/plain": [
              "<Figure size 720x360 with 1 Axes>"
            ]
          },
          "metadata": {
            "needs_background": "light"
          }
        }
      ]
    },
    {
      "cell_type": "code",
      "metadata": {
        "execution": {
          "iopub.status.busy": "2021-09-09T09:16:49.733736Z",
          "iopub.execute_input": "2021-09-09T09:16:49.734046Z",
          "iopub.status.idle": "2021-09-09T09:16:50.248087Z",
          "shell.execute_reply.started": "2021-09-09T09:16:49.734016Z",
          "shell.execute_reply": "2021-09-09T09:16:50.247110Z"
        },
        "trusted": true,
        "colab": {
          "base_uri": "https://localhost:8080/",
          "height": 564
        },
        "id": "xTDG3NCK9Toi",
        "outputId": "f49a7eba-de16-4287-81c7-5818ea69d209"
      },
      "source": [
        "wide_step_train.plot(lstm_model)"
      ],
      "execution_count": 52,
      "outputs": [
        {
          "output_type": "stream",
          "name": "stdout",
          "text": [
            "LstmModel(\n",
            "  (lstm): LSTM(19, 32)\n",
            "  (lin): Linear(in_features=32, out_features=1, bias=True)\n",
            ")\n"
          ]
        },
        {
          "output_type": "display_data",
          "data": {
            "image/png": "[encoded data removed]",
            "text/plain": [
              "<Figure size 864x576 with 3 Axes>"
            ]
          },
          "metadata": {
            "needs_background": "light"
          }
        }
      ]
    },
    {
      "cell_type": "markdown",
      "metadata": {
        "id": "aTnv7l3I9Toi"
      },
      "source": [
        "# Multi-output Model"
      ]
    },
    {
      "cell_type": "code",
      "metadata": {
        "execution": {
          "iopub.status.busy": "2021-09-09T09:42:13.111688Z",
          "iopub.execute_input": "2021-09-09T09:42:13.112083Z",
          "iopub.status.idle": "2021-09-09T09:42:15.842719Z",
          "shell.execute_reply.started": "2021-09-09T09:42:13.112046Z",
          "shell.execute_reply": "2021-09-09T09:42:15.841751Z"
        },
        "trusted": true,
        "colab": {
          "base_uri": "https://localhost:8080/",
          "height": 118
        },
        "id": "A9ZUpR6O9Toi",
        "outputId": "19817263-7a8a-4fe0-8636-7bb0bec6e4a7"
      },
      "source": [
        "wide_window_train = TimeSeriesDataset(df=train_df,\n",
        "                                input_width=24,\n",
        "                               label_width=24,\n",
        "                               shift=1,\n",
        "                               step=1)\n",
        "\n",
        "wide_window_val = TimeSeriesDataset(df=val_df,\n",
        "                                input_width=24,\n",
        "                               label_width=24,\n",
        "                               shift=1,\n",
        "                               step=1)\n",
        "\n",
        "display(wide_window_train)\n",
        "print(\"input shape\",  wide_window_train.example[0][0].shape)\n",
        "print(\"output shape\",  wide_window_train.example[0][1].shape)"
      ],
      "execution_count": 66,
      "outputs": [
        {
          "output_type": "display_data",
          "data": {
            "text/plain": [
              "Total window size: 25\n",
              "Input indices: [ 0  1  2  3  4  5  6  7  8  9 10 11 12 13 14 15 16 17 18 19 20 21 22 23]\n",
              "Label indices: [ 1  2  3  4  5  6  7  8  9 10 11 12 13 14 15 16 17 18 19 20 21 22 23 24]\n",
              "Label column name(s): None"
            ]
          },
          "metadata": {}
        },
        {
          "output_type": "stream",
          "name": "stdout",
          "text": [
            "input shape torch.Size([1, 24, 19])\n",
            "output shape torch.Size([1, 24, 19])\n"
          ]
        }
      ]
    },
    {
      "cell_type": "markdown",
      "metadata": {
        "id": "xU-pQcvL9Toi"
      },
      "source": [
        "## Baseline"
      ]
    },
    {
      "cell_type": "code",
      "metadata": {
        "execution": {
          "iopub.status.busy": "2021-09-09T09:43:13.063864Z",
          "iopub.execute_input": "2021-09-09T09:43:13.064240Z",
          "iopub.status.idle": "2021-09-09T09:43:13.252262Z",
          "shell.execute_reply.started": "2021-09-09T09:43:13.064211Z",
          "shell.execute_reply": "2021-09-09T09:43:13.251482Z"
        },
        "trusted": true,
        "id": "HOsL4FmD9Toi"
      },
      "source": [
        "baseline_model = Baseline()\n",
        "opt = None\n",
        "loss_fn = nn.MSELoss()\n",
        "train_dl, valid_dl = get_data(wide_window_train, wide_window_val, bs=32, collate_fn=collate_fn_custom)\n",
        "\n",
        "# epochs, model, loss_func, opt, train_dl, valid_dl\n",
        "# fit(1, baseline_model, loss_fn, opt, train_dl)\n",
        "hist = validate(baseline_model, loss_fn, valid_dl)"
      ],
      "execution_count": 54,
      "outputs": []
    },
    {
      "cell_type": "markdown",
      "metadata": {
        "id": "RoFBp4W79Toi"
      },
      "source": [
        "## Dense"
      ]
    },
    {
      "cell_type": "code",
      "metadata": {
        "id": "eLJqq08y9Toi"
      },
      "source": [
        "class DenseModelV2(nn.Module):\n",
        "    def __init__(self, in_features, out_features, hidden_sizes=[64,64]):\n",
        "        super().__init__()\n",
        "        # layers\n",
        "        self.linear1 = nn.Linear(in_features, hidden_sizes[0]).double()\n",
        "        self.linear2 = nn.Linear(hidden_sizes[0], hidden_sizes[1]).double()\n",
        "        self.linear3 = nn.Linear(hidden_sizes[1], out_features).double()\n",
        "        \n",
        "        # non-linear activation layer\n",
        "        self.relu = nn.ReLU()\n",
        "        \n",
        "    def forward(self, x):\n",
        "        x = self.linear1(x)\n",
        "        x = self.relu(x)\n",
        "        x = self.linear2(x)\n",
        "        x = self.relu(x)\n",
        "        x = self.linear3(x)\n",
        "        \n",
        "        return x"
      ],
      "execution_count": 56,
      "outputs": []
    },
    {
      "cell_type": "code",
      "metadata": {
        "colab": {
          "base_uri": "https://localhost:8080/"
        },
        "id": "8b719x6SAUuq",
        "outputId": "a27dafae-1896-4e2f-c67c-df99248896fc"
      },
      "source": [
        "dense_model_v2 = DenseModelV2(19, 19)\n",
        "dense_model_v2.to(DEVICE)\n",
        "train_dl, val_dl = get_data(wide_window_train, wide_window_val)\n",
        "opt = torch.optim.Adam(dense_model_v2.parameters())\n",
        "loss = nn.MSELoss()\n",
        "\n",
        "history = fit(10, dense_model_v2, loss, opt, train_dl, val_dl)"
      ],
      "execution_count": 58,
      "outputs": [
        {
          "output_type": "stream",
          "name": "stdout",
          "text": [
            "[Epoch 0/10]\n",
            " --------------------\n",
            "\n",
            " mean training loss 0.19782557764145983\n",
            " mean validation loss 0.14385137535282305\n",
            "[Epoch 1/10]\n",
            " --------------------\n",
            "\n",
            " mean training loss 0.0793517397329559\n",
            " mean validation loss 0.1080738649432923\n",
            "[Epoch 2/10]\n",
            " --------------------\n",
            "\n",
            " mean training loss 0.07488045585420246\n",
            " mean validation loss 0.10446161913170325\n",
            "[Epoch 3/10]\n",
            " --------------------\n",
            "\n",
            " mean training loss 0.07317459624698996\n",
            " mean validation loss 0.10442607603815278\n",
            "[Epoch 4/10]\n",
            " --------------------\n",
            "\n",
            " mean training loss 0.07225367727855664\n",
            " mean validation loss 0.10038989844009712\n",
            "[Epoch 5/10]\n",
            " --------------------\n",
            "\n",
            " mean training loss 0.07086840880024206\n",
            " mean validation loss 0.09558693955072135\n",
            "[Epoch 6/10]\n",
            " --------------------\n",
            "\n",
            " mean training loss 0.06956470492644506\n",
            " mean validation loss 0.09428154584156075\n",
            "[Epoch 7/10]\n",
            " --------------------\n",
            "\n",
            " mean training loss 0.06880409560895609\n",
            " mean validation loss 0.09288404807277144\n",
            "[Epoch 8/10]\n",
            " --------------------\n",
            "\n",
            " mean training loss 0.06789750578314031\n",
            " mean validation loss 0.09352002015469983\n",
            "[Epoch 9/10]\n",
            " --------------------\n",
            "\n",
            " mean training loss 0.06753975803771828\n",
            " mean validation loss 0.09368138163938818\n"
          ]
        }
      ]
    },
    {
      "cell_type": "code",
      "metadata": {
        "colab": {
          "base_uri": "https://localhost:8080/",
          "height": 334
        },
        "id": "P4KyyMpbDvrf",
        "outputId": "5b0bdf2c-6b0c-4e6b-985f-359f1699fed9"
      },
      "source": [
        "history.plot()"
      ],
      "execution_count": 59,
      "outputs": [
        {
          "output_type": "display_data",
          "data": {
            "image/png": "[encoded data removed]",
            "text/plain": [
              "<Figure size 720x360 with 1 Axes>"
            ]
          },
          "metadata": {
            "needs_background": "light"
          }
        }
      ]
    },
    {
      "cell_type": "markdown",
      "metadata": {
        "id": "8aay9BHXGgnq"
      },
      "source": [
        "## RNN"
      ]
    },
    {
      "cell_type": "code",
      "metadata": {
        "id": "3wJ7Oo_NGjsa"
      },
      "source": [
        "class LstmModelV2(nn.Module):\n",
        "    def __init__(self, in_features, out_features, hidden_sizes=[32]):\n",
        "        super().__init__()\n",
        "        # (batch, time, featres) => (batch, time, lstm_units)\n",
        "        self.lstm = nn.LSTM(input_size=in_features,\n",
        "                            hidden_size=hidden_sizes[0]).double()\n",
        "        # (batch, time, lstm_units) => (batch, time, features)\n",
        "        self.lin = nn.Linear(hidden_sizes[0], out_features).double()\n",
        "        \n",
        "    def forward(self, x):\n",
        "        x, (h, c) = self.lstm(x)\n",
        "        x = self.lin(x)\n",
        "        \n",
        "        return x"
      ],
      "execution_count": 70,
      "outputs": []
    },
    {
      "cell_type": "code",
      "metadata": {
        "colab": {
          "base_uri": "https://localhost:8080/",
          "height": 1000
        },
        "id": "MwKkBpl2G7zk",
        "outputId": "7e1c3f30-90f3-4853-8024-ab03cacb0a27"
      },
      "source": [
        "lstm_model_v2 = LstmModelV2(19, 19)\n",
        "lstm_model_v2.to(DEVICE)\n",
        "train_dl, val_dl = get_data(wide_window_train, wide_window_val)\n",
        "opt = torch.optim.Adam(lstm_model_v2.parameters())\n",
        "loss = nn.MSELoss()\n",
        "\n",
        "history = fit(10, lstm_model_v2, loss, opt, train_dl, val_dl)\n",
        "history.plot()"
      ],
      "execution_count": 71,
      "outputs": [
        {
          "output_type": "stream",
          "name": "stdout",
          "text": [
            "[Epoch 0/10]\n",
            " --------------------\n",
            "\n",
            " mean training loss 0.23584527675038325\n",
            " mean validation loss 0.11188408463648551\n",
            "[Epoch 1/10]\n",
            " --------------------\n",
            "\n",
            " mean training loss 0.07716434860108701\n",
            " mean validation loss 0.09228527700617876\n",
            "[Epoch 2/10]\n",
            " --------------------\n",
            "\n",
            " mean training loss 0.06964548178100301\n",
            " mean validation loss 0.08604663855585193\n",
            "[Epoch 3/10]\n",
            " --------------------\n",
            "\n",
            " mean training loss 0.06668239042850989\n",
            " mean validation loss 0.08310946159496102\n",
            "[Epoch 4/10]\n",
            " --------------------\n",
            "\n",
            " mean training loss 0.06487271243610478\n",
            " mean validation loss 0.08165142982469056\n",
            "[Epoch 5/10]\n",
            " --------------------\n",
            "\n",
            " mean training loss 0.06384374269087391\n",
            " mean validation loss 0.080807118780665\n",
            "[Epoch 6/10]\n",
            " --------------------\n",
            "\n",
            " mean training loss 0.06316245407651355\n",
            " mean validation loss 0.08033021619846668\n",
            "[Epoch 7/10]\n",
            " --------------------\n",
            "\n",
            " mean training loss 0.06264127211759196\n",
            " mean validation loss 0.07988471093583649\n",
            "[Epoch 8/10]\n",
            " --------------------\n",
            "\n",
            " mean training loss 0.06217501415414506\n",
            " mean validation loss 0.07943950459196131\n",
            "[Epoch 9/10]\n",
            " --------------------\n",
            "\n",
            " mean training loss 0.06173254560204296\n",
            " mean validation loss 0.07900665977248035\n"
          ]
        },
        {
          "output_type": "display_data",
          "data": {
            "image/png": "[encoded data removed]",
            "text/plain": [
              "<Figure size 720x360 with 1 Axes>"
            ]
          },
          "metadata": {
            "needs_background": "light"
          }
        }
      ]
    }
  ]
}